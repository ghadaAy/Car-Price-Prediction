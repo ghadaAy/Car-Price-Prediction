{
  "nbformat": 4,
  "nbformat_minor": 0,
  "metadata": {
    "colab": {
      "name": "Copy of work",
      "provenance": [],
      "collapsed_sections": [
        "27V9Ho7Gm2BX",
        "-wukKx0yN2Hz",
        "fgaseAKQHqH6",
        "kt7yPAPXaTI2",
        "-RXDNvgjMz5J",
        "OPWUtyOBn2FS",
        "vgGVlyzkNrad",
        "ySkBAxQS5bX-",
        "nve-X31noruY",
        "DePABLQUuPUN",
        "tBwFjk8-xoZ_",
        "xjc8t65uxuzo",
        "4vDmh_CiDt4X",
        "ZHFZwnQ0QT1v",
        "Rcts6gVMx2nN",
        "UK4oSRdtCqBI",
        "q9AWbZ1ZDK_K",
        "ChWljI7E8cUF",
        "V0nyxpS-TpuG",
        "oojfexbQzkFq",
        "vtGa8aBrzSEw",
        "kidtL1_WvYq8",
        "kJNUnIcYdMHf"
      ]
    },
    "kernelspec": {
      "display_name": "Python 3",
      "name": "python3"
    },
    "language_info": {
      "name": "python"
    },
    "accelerator": "GPU"
  },
  "cells": [
    {
      "cell_type": "code",
      "metadata": {
        "id": "HmVeLU6hhmmK"
      },
      "source": [
        "import matplotlib.pyplot as plt\n",
        "import numpy as np\n",
        "import pandas as pd\n",
        "import seaborn as sns\n",
        "from datetime import datetime\n",
        "import math\n",
        "import seaborn as sns\n",
        "from sklearn.metrics import mean_squared_error\n",
        "from sklearn.metrics import r2_score\n",
        "import requests\n",
        "from sklearn.model_selection import train_test_split\n",
        "from lightgbm import LGBMRegressor\n",
        "from sklearn.model_selection import GridSearchCV\n",
        "from sklearn import metrics\n",
        "from xgboost.sklearn import XGBRegressor\n",
        "from sklearn.preprocessing import LabelEncoder\n",
        "\n",
        "import warnings\n",
        "warnings.simplefilter(action='ignore', category=FutureWarning)\n",
        "\n",
        "sns.set_palette(\"GnBu_d\")\n",
        "sns.set_style('whitegrid')\n",
        "%matplotlib inline"
      ],
      "execution_count": 1,
      "outputs": []
    },
    {
      "cell_type": "markdown",
      "metadata": {
        "id": "27V9Ho7Gm2BX"
      },
      "source": [
        "#Loading our data"
      ]
    },
    {
      "cell_type": "code",
      "metadata": {
        "colab": {
          "base_uri": "https://localhost:8080/"
        },
        "id": "hbvb_F7EpDSm",
        "outputId": "f8e376fe-3c00-4352-c3ff-2dc95b2e1eec"
      },
      "source": [
        "cd drive/MyDrive/Colab\\ Notebooks"
      ],
      "execution_count": 3,
      "outputs": [
        {
          "output_type": "stream",
          "text": [
            "/content/drive/MyDrive/Colab Notebooks\n"
          ],
          "name": "stdout"
        }
      ]
    },
    {
      "cell_type": "code",
      "metadata": {
        "id": "q6fKnadgaWpe",
        "colab": {
          "base_uri": "https://localhost:8080/",
          "height": 547
        },
        "outputId": "47600ab0-5944-461e-9a20-27fb46c37568"
      },
      "source": [
        "df =  pd.read_csv(\"car_data_for_price_estimation.csv\")\n",
        "df.head(10)"
      ],
      "execution_count": 5,
      "outputs": [
        {
          "output_type": "execute_result",
          "data": {
            "text/html": [
              "<div>\n",
              "<style scoped>\n",
              "    .dataframe tbody tr th:only-of-type {\n",
              "        vertical-align: middle;\n",
              "    }\n",
              "\n",
              "    .dataframe tbody tr th {\n",
              "        vertical-align: top;\n",
              "    }\n",
              "\n",
              "    .dataframe thead th {\n",
              "        text-align: right;\n",
              "    }\n",
              "</style>\n",
              "<table border=\"1\" class=\"dataframe\">\n",
              "  <thead>\n",
              "    <tr style=\"text-align: right;\">\n",
              "      <th></th>\n",
              "      <th>make_id</th>\n",
              "      <th>model_id</th>\n",
              "      <th>submodel_id</th>\n",
              "      <th>price</th>\n",
              "      <th>mileage</th>\n",
              "      <th>country_code</th>\n",
              "      <th>year</th>\n",
              "      <th>currency</th>\n",
              "      <th>updated_at</th>\n",
              "    </tr>\n",
              "  </thead>\n",
              "  <tbody>\n",
              "    <tr>\n",
              "      <th>0</th>\n",
              "      <td>86</td>\n",
              "      <td>912.0</td>\n",
              "      <td>957.0</td>\n",
              "      <td>2150000</td>\n",
              "      <td>30000</td>\n",
              "      <td>PK</td>\n",
              "      <td>2017</td>\n",
              "      <td>PKR</td>\n",
              "      <td>2019-07-25 21:50:04.860913+00</td>\n",
              "    </tr>\n",
              "    <tr>\n",
              "      <th>1</th>\n",
              "      <td>73</td>\n",
              "      <td>774.0</td>\n",
              "      <td>599.0</td>\n",
              "      <td>119000</td>\n",
              "      <td>28800</td>\n",
              "      <td>AE</td>\n",
              "      <td>2013</td>\n",
              "      <td>AED</td>\n",
              "      <td>2019-12-27 22:50:07.718331+00</td>\n",
              "    </tr>\n",
              "    <tr>\n",
              "      <th>2</th>\n",
              "      <td>86</td>\n",
              "      <td>935.0</td>\n",
              "      <td>NaN</td>\n",
              "      <td>2750000</td>\n",
              "      <td>1</td>\n",
              "      <td>PK</td>\n",
              "      <td>2020</td>\n",
              "      <td>PKR</td>\n",
              "      <td>2020-12-02 22:49:39.536877+00</td>\n",
              "    </tr>\n",
              "    <tr>\n",
              "      <th>3</th>\n",
              "      <td>5</td>\n",
              "      <td>41.0</td>\n",
              "      <td>NaN</td>\n",
              "      <td>179000</td>\n",
              "      <td>93000</td>\n",
              "      <td>ZA</td>\n",
              "      <td>2012</td>\n",
              "      <td>ZAR</td>\n",
              "      <td>2020-02-16 22:50:05.555076+00</td>\n",
              "    </tr>\n",
              "    <tr>\n",
              "      <th>4</th>\n",
              "      <td>22</td>\n",
              "      <td>222.0</td>\n",
              "      <td>NaN</td>\n",
              "      <td>108000</td>\n",
              "      <td>48767</td>\n",
              "      <td>AE</td>\n",
              "      <td>2016</td>\n",
              "      <td>AED</td>\n",
              "      <td>2020-10-04 21:50:10.793611+00</td>\n",
              "    </tr>\n",
              "    <tr>\n",
              "      <th>5</th>\n",
              "      <td>86</td>\n",
              "      <td>1036.0</td>\n",
              "      <td>NaN</td>\n",
              "      <td>2500000</td>\n",
              "      <td>146000</td>\n",
              "      <td>PK</td>\n",
              "      <td>2008</td>\n",
              "      <td>PKR</td>\n",
              "      <td>2021-02-05 22:50:17.448336+00</td>\n",
              "    </tr>\n",
              "    <tr>\n",
              "      <th>6</th>\n",
              "      <td>8</td>\n",
              "      <td>75.0</td>\n",
              "      <td>NaN</td>\n",
              "      <td>409900</td>\n",
              "      <td>39000</td>\n",
              "      <td>ZA</td>\n",
              "      <td>2018</td>\n",
              "      <td>ZAR</td>\n",
              "      <td>2021-01-31 03:07:25.513245+00</td>\n",
              "    </tr>\n",
              "    <tr>\n",
              "      <th>7</th>\n",
              "      <td>86</td>\n",
              "      <td>912.0</td>\n",
              "      <td>NaN</td>\n",
              "      <td>20000</td>\n",
              "      <td>800</td>\n",
              "      <td>ZA</td>\n",
              "      <td>1988</td>\n",
              "      <td>ZAR</td>\n",
              "      <td>2019-09-08 21:50:05.766048+00</td>\n",
              "    </tr>\n",
              "    <tr>\n",
              "      <th>8</th>\n",
              "      <td>58</td>\n",
              "      <td>566.0</td>\n",
              "      <td>NaN</td>\n",
              "      <td>4650</td>\n",
              "      <td>59999</td>\n",
              "      <td>KW</td>\n",
              "      <td>2015</td>\n",
              "      <td>KWD</td>\n",
              "      <td>2021-05-06 21:08:37.030854+00</td>\n",
              "    </tr>\n",
              "    <tr>\n",
              "      <th>9</th>\n",
              "      <td>27</td>\n",
              "      <td>287.0</td>\n",
              "      <td>NaN</td>\n",
              "      <td>56500</td>\n",
              "      <td>81000</td>\n",
              "      <td>AE</td>\n",
              "      <td>2015</td>\n",
              "      <td>AED</td>\n",
              "      <td>2020-10-27 23:12:22.849894+00</td>\n",
              "    </tr>\n",
              "  </tbody>\n",
              "</table>\n",
              "</div>"
            ],
            "text/plain": [
              "   make_id  model_id  submodel_id  ...  year  currency                     updated_at\n",
              "0       86     912.0        957.0  ...  2017       PKR  2019-07-25 21:50:04.860913+00\n",
              "1       73     774.0        599.0  ...  2013       AED  2019-12-27 22:50:07.718331+00\n",
              "2       86     935.0          NaN  ...  2020       PKR  2020-12-02 22:49:39.536877+00\n",
              "3        5      41.0          NaN  ...  2012       ZAR  2020-02-16 22:50:05.555076+00\n",
              "4       22     222.0          NaN  ...  2016       AED  2020-10-04 21:50:10.793611+00\n",
              "5       86    1036.0          NaN  ...  2008       PKR  2021-02-05 22:50:17.448336+00\n",
              "6        8      75.0          NaN  ...  2018       ZAR  2021-01-31 03:07:25.513245+00\n",
              "7       86     912.0          NaN  ...  1988       ZAR  2019-09-08 21:50:05.766048+00\n",
              "8       58     566.0          NaN  ...  2015       KWD  2021-05-06 21:08:37.030854+00\n",
              "9       27     287.0          NaN  ...  2015       AED  2020-10-27 23:12:22.849894+00\n",
              "\n",
              "[10 rows x 9 columns]"
            ]
          },
          "metadata": {
            "tags": []
          },
          "execution_count": 5
        }
      ]
    },
    {
      "cell_type": "markdown",
      "metadata": {
        "id": "x1P9UdMMnIbQ"
      },
      "source": [
        "#Preprocessing"
      ]
    },
    {
      "cell_type": "markdown",
      "metadata": {
        "id": "-wukKx0yN2Hz"
      },
      "source": [
        "### understanding the dataset"
      ]
    },
    {
      "cell_type": "code",
      "metadata": {
        "id": "uN1jXPHwA0gC",
        "colab": {
          "base_uri": "https://localhost:8080/",
          "height": 0
        },
        "outputId": "3c6ad9b1-b378-4e64-fd55-80656837e1a1"
      },
      "source": [
        "df.describe(include='all')"
      ],
      "execution_count": 6,
      "outputs": [
        {
          "output_type": "execute_result",
          "data": {
            "text/html": [
              "<div>\n",
              "<style scoped>\n",
              "    .dataframe tbody tr th:only-of-type {\n",
              "        vertical-align: middle;\n",
              "    }\n",
              "\n",
              "    .dataframe tbody tr th {\n",
              "        vertical-align: top;\n",
              "    }\n",
              "\n",
              "    .dataframe thead th {\n",
              "        text-align: right;\n",
              "    }\n",
              "</style>\n",
              "<table border=\"1\" class=\"dataframe\">\n",
              "  <thead>\n",
              "    <tr style=\"text-align: right;\">\n",
              "      <th></th>\n",
              "      <th>make_id</th>\n",
              "      <th>model_id</th>\n",
              "      <th>submodel_id</th>\n",
              "      <th>price</th>\n",
              "      <th>mileage</th>\n",
              "      <th>country_code</th>\n",
              "      <th>year</th>\n",
              "      <th>currency</th>\n",
              "      <th>updated_at</th>\n",
              "    </tr>\n",
              "  </thead>\n",
              "  <tbody>\n",
              "    <tr>\n",
              "      <th>count</th>\n",
              "      <td>1.048575e+06</td>\n",
              "      <td>927782.000000</td>\n",
              "      <td>171655.000000</td>\n",
              "      <td>1.048575e+06</td>\n",
              "      <td>1.048575e+06</td>\n",
              "      <td>1048575</td>\n",
              "      <td>1.048575e+06</td>\n",
              "      <td>1048575</td>\n",
              "      <td>1048575</td>\n",
              "    </tr>\n",
              "    <tr>\n",
              "      <th>unique</th>\n",
              "      <td>NaN</td>\n",
              "      <td>NaN</td>\n",
              "      <td>NaN</td>\n",
              "      <td>NaN</td>\n",
              "      <td>NaN</td>\n",
              "      <td>6</td>\n",
              "      <td>NaN</td>\n",
              "      <td>6</td>\n",
              "      <td>185910</td>\n",
              "    </tr>\n",
              "    <tr>\n",
              "      <th>top</th>\n",
              "      <td>NaN</td>\n",
              "      <td>NaN</td>\n",
              "      <td>NaN</td>\n",
              "      <td>NaN</td>\n",
              "      <td>NaN</td>\n",
              "      <td>ZA</td>\n",
              "      <td>NaN</td>\n",
              "      <td>ZAR</td>\n",
              "      <td>2019-10-16 21:50:05.318881+00</td>\n",
              "    </tr>\n",
              "    <tr>\n",
              "      <th>freq</th>\n",
              "      <td>NaN</td>\n",
              "      <td>NaN</td>\n",
              "      <td>NaN</td>\n",
              "      <td>NaN</td>\n",
              "      <td>NaN</td>\n",
              "      <td>460906</td>\n",
              "      <td>NaN</td>\n",
              "      <td>460906</td>\n",
              "      <td>5741</td>\n",
              "    </tr>\n",
              "    <tr>\n",
              "      <th>mean</th>\n",
              "      <td>5.929174e+01</td>\n",
              "      <td>643.603866</td>\n",
              "      <td>719.562710</td>\n",
              "      <td>4.557117e+06</td>\n",
              "      <td>1.292933e+05</td>\n",
              "      <td>NaN</td>\n",
              "      <td>2.011227e+03</td>\n",
              "      <td>NaN</td>\n",
              "      <td>NaN</td>\n",
              "    </tr>\n",
              "    <tr>\n",
              "      <th>std</th>\n",
              "      <td>2.691895e+01</td>\n",
              "      <td>309.822686</td>\n",
              "      <td>288.145938</td>\n",
              "      <td>3.908113e+09</td>\n",
              "      <td>3.334412e+06</td>\n",
              "      <td>NaN</td>\n",
              "      <td>7.594775e+00</td>\n",
              "      <td>NaN</td>\n",
              "      <td>NaN</td>\n",
              "    </tr>\n",
              "    <tr>\n",
              "      <th>min</th>\n",
              "      <td>1.000000e+00</td>\n",
              "      <td>1.000000</td>\n",
              "      <td>6.000000</td>\n",
              "      <td>1.000000e+02</td>\n",
              "      <td>0.000000e+00</td>\n",
              "      <td>NaN</td>\n",
              "      <td>1.926000e+03</td>\n",
              "      <td>NaN</td>\n",
              "      <td>NaN</td>\n",
              "    </tr>\n",
              "    <tr>\n",
              "      <th>25%</th>\n",
              "      <td>3.500000e+01</td>\n",
              "      <td>342.000000</td>\n",
              "      <td>452.000000</td>\n",
              "      <td>6.500000e+04</td>\n",
              "      <td>3.500000e+04</td>\n",
              "      <td>NaN</td>\n",
              "      <td>2.007000e+03</td>\n",
              "      <td>NaN</td>\n",
              "      <td>NaN</td>\n",
              "    </tr>\n",
              "    <tr>\n",
              "      <th>50%</th>\n",
              "      <td>6.600000e+01</td>\n",
              "      <td>697.000000</td>\n",
              "      <td>779.000000</td>\n",
              "      <td>1.800000e+05</td>\n",
              "      <td>8.500000e+04</td>\n",
              "      <td>NaN</td>\n",
              "      <td>2.013000e+03</td>\n",
              "      <td>NaN</td>\n",
              "      <td>NaN</td>\n",
              "    </tr>\n",
              "    <tr>\n",
              "      <th>75%</th>\n",
              "      <td>8.600000e+01</td>\n",
              "      <td>918.000000</td>\n",
              "      <td>961.000000</td>\n",
              "      <td>6.200000e+05</td>\n",
              "      <td>1.399990e+05</td>\n",
              "      <td>NaN</td>\n",
              "      <td>2.017000e+03</td>\n",
              "      <td>NaN</td>\n",
              "      <td>NaN</td>\n",
              "    </tr>\n",
              "    <tr>\n",
              "      <th>max</th>\n",
              "      <td>9.200000e+01</td>\n",
              "      <td>1103.000000</td>\n",
              "      <td>1099.000000</td>\n",
              "      <td>4.000000e+12</td>\n",
              "      <td>1.200012e+09</td>\n",
              "      <td>NaN</td>\n",
              "      <td>2.556000e+03</td>\n",
              "      <td>NaN</td>\n",
              "      <td>NaN</td>\n",
              "    </tr>\n",
              "  </tbody>\n",
              "</table>\n",
              "</div>"
            ],
            "text/plain": [
              "             make_id       model_id  ...  currency                     updated_at\n",
              "count   1.048575e+06  927782.000000  ...   1048575                        1048575\n",
              "unique           NaN            NaN  ...         6                         185910\n",
              "top              NaN            NaN  ...       ZAR  2019-10-16 21:50:05.318881+00\n",
              "freq             NaN            NaN  ...    460906                           5741\n",
              "mean    5.929174e+01     643.603866  ...       NaN                            NaN\n",
              "std     2.691895e+01     309.822686  ...       NaN                            NaN\n",
              "min     1.000000e+00       1.000000  ...       NaN                            NaN\n",
              "25%     3.500000e+01     342.000000  ...       NaN                            NaN\n",
              "50%     6.600000e+01     697.000000  ...       NaN                            NaN\n",
              "75%     8.600000e+01     918.000000  ...       NaN                            NaN\n",
              "max     9.200000e+01    1103.000000  ...       NaN                            NaN\n",
              "\n",
              "[11 rows x 9 columns]"
            ]
          },
          "metadata": {
            "tags": []
          },
          "execution_count": 6
        }
      ]
    },
    {
      "cell_type": "code",
      "metadata": {
        "id": "pfzr3qg4BWUc",
        "colab": {
          "base_uri": "https://localhost:8080/"
        },
        "outputId": "d17f1997-c201-4011-f5dc-2280beb4df31"
      },
      "source": [
        "df.info()"
      ],
      "execution_count": 7,
      "outputs": [
        {
          "output_type": "stream",
          "text": [
            "<class 'pandas.core.frame.DataFrame'>\n",
            "RangeIndex: 1048575 entries, 0 to 1048574\n",
            "Data columns (total 9 columns):\n",
            " #   Column        Non-Null Count    Dtype  \n",
            "---  ------        --------------    -----  \n",
            " 0   make_id       1048575 non-null  int64  \n",
            " 1   model_id      927782 non-null   float64\n",
            " 2   submodel_id   171655 non-null   float64\n",
            " 3   price         1048575 non-null  int64  \n",
            " 4   mileage       1048575 non-null  int64  \n",
            " 5   country_code  1048575 non-null  object \n",
            " 6   year          1048575 non-null  int64  \n",
            " 7   currency      1048575 non-null  object \n",
            " 8   updated_at    1048575 non-null  object \n",
            "dtypes: float64(2), int64(4), object(3)\n",
            "memory usage: 72.0+ MB\n"
          ],
          "name": "stdout"
        }
      ]
    },
    {
      "cell_type": "code",
      "metadata": {
        "id": "NjbqYVc_h5-g",
        "colab": {
          "base_uri": "https://localhost:8080/"
        },
        "outputId": "11ebdf50-7213-4a1a-aaa4-1a1f5fe089be"
      },
      "source": [
        "df.isnull().sum()"
      ],
      "execution_count": 8,
      "outputs": [
        {
          "output_type": "execute_result",
          "data": {
            "text/plain": [
              "make_id              0\n",
              "model_id        120793\n",
              "submodel_id     876920\n",
              "price                0\n",
              "mileage              0\n",
              "country_code         0\n",
              "year                 0\n",
              "currency             0\n",
              "updated_at           0\n",
              "dtype: int64"
            ]
          },
          "metadata": {
            "tags": []
          },
          "execution_count": 8
        }
      ]
    },
    {
      "cell_type": "markdown",
      "metadata": {
        "id": "fgaseAKQHqH6"
      },
      "source": [
        "###Dropping duplicate rows"
      ]
    },
    {
      "cell_type": "code",
      "metadata": {
        "id": "5HLbZbt0HtLV"
      },
      "source": [
        "df = df.drop_duplicates()"
      ],
      "execution_count": 9,
      "outputs": []
    },
    {
      "cell_type": "markdown",
      "metadata": {
        "id": "kt7yPAPXaTI2"
      },
      "source": [
        "###check if coutry and currency are the same"
      ]
    },
    {
      "cell_type": "code",
      "metadata": {
        "id": "fESGhFqbaMTV",
        "colab": {
          "base_uri": "https://localhost:8080/"
        },
        "outputId": "185d22d0-73e4-460b-b6cf-45cfebdabc54"
      },
      "source": [
        "different = 0\n",
        "for currency, country in zip(df['currency'],df['country_code']):\n",
        "  if currency[:2] != country:\n",
        "    different += 1\n",
        "print(different)\n",
        "# k= 0 therefore no problem"
      ],
      "execution_count": 10,
      "outputs": [
        {
          "output_type": "stream",
          "text": [
            "0\n"
          ],
          "name": "stdout"
        }
      ]
    },
    {
      "cell_type": "markdown",
      "metadata": {
        "id": "-RXDNvgjMz5J"
      },
      "source": [
        "### make sure updated_at values have the same format \n"
      ]
    },
    {
      "cell_type": "code",
      "metadata": {
        "colab": {
          "base_uri": "https://localhost:8080/"
        },
        "id": "xeRSnpyljRkv",
        "outputId": "78ef40e7-378d-4bb7-cc88-33b7500702c3"
      },
      "source": [
        "#we test if there is a different ending than +00\n",
        "diff_format = 0\n",
        "\n",
        "for date in enumerate(df['updated_at']):\n",
        "  if date[1][len(date[1])-3:] !='+00' :\n",
        "    diff_format += 1\n",
        "print(diff_format)\n",
        "\n",
        "#diff_format is 0"
      ],
      "execution_count": 11,
      "outputs": [
        {
          "output_type": "stream",
          "text": [
            "0\n"
          ],
          "name": "stdout"
        }
      ]
    },
    {
      "cell_type": "markdown",
      "metadata": {
        "id": "OPWUtyOBn2FS"
      },
      "source": [
        "### Change update_at into datetime"
      ]
    },
    {
      "cell_type": "code",
      "metadata": {
        "id": "p-FRNTLV4IAu"
      },
      "source": [
        "df['updated_at_date'] = df.apply(lambda row: datetime.strptime(row.updated_at[:-3], '%Y-%m-%d %H:%M:%S.%f'), axis = 1)"
      ],
      "execution_count": null,
      "outputs": []
    },
    {
      "cell_type": "markdown",
      "metadata": {
        "id": "jMLzX4-FoKhF"
      },
      "source": [
        "#### test if updated_at_date is less than today's date"
      ]
    },
    {
      "cell_type": "code",
      "metadata": {
        "id": "1c8fLIWPoWzg"
      },
      "source": [
        "print(df['updated_at_date'].max())\n",
        "#most recent date is in May "
      ],
      "execution_count": null,
      "outputs": []
    },
    {
      "cell_type": "markdown",
      "metadata": {
        "id": "vgGVlyzkNrad"
      },
      "source": [
        "### We fix year value if it exceeds the year of the update"
      ]
    },
    {
      "cell_type": "code",
      "metadata": {
        "id": "GbdxoIQBt4wg"
      },
      "source": [
        "df['year_fixed'] = ''\n",
        "i=0\n",
        "\n",
        "for update_y,y,make in zip(df['updated_at_date'],df['year'],df['make_id']):\n",
        "  i += 1\n",
        "  if update_y.year < y:\n",
        "    df['year_fixed'].iloc[i] = math.floor(df.groupby(['make_id'])['year'].mean()[make])\n",
        "    \n",
        "df['year_fixed'] = np.where(df.year_fixed == '', df.year,df.year_fixed)\n",
        "\n",
        "#this ensures that years which exceeed last update are changed into the mean of the year for that car's model"
      ],
      "execution_count": null,
      "outputs": []
    },
    {
      "cell_type": "markdown",
      "metadata": {
        "id": "ySkBAxQS5bX-"
      },
      "source": [
        "### Adding age column"
      ]
    },
    {
      "cell_type": "code",
      "metadata": {
        "id": "cqE4dmVC5bGx"
      },
      "source": [
        "df['age'] = datetime.today().year - df['year_fixed']\n",
        "df['age'] = df['age'].astype('int64')\n",
        "df = df.loc[df.age>=0]"
      ],
      "execution_count": null,
      "outputs": []
    },
    {
      "cell_type": "markdown",
      "metadata": {
        "id": "nve-X31noruY"
      },
      "source": [
        "### Convert prices in KWD currency\n",
        "##### We convert using exchange_api to have updated values which requires an account so the values will be stores in a csv file for testing"
      ]
    },
    {
      "cell_type": "code",
      "metadata": {
        "id": "FQlnX8mTuBiJ"
      },
      "source": [
        "\"\"\"\n",
        "#we are using real time conversion rate using ExchangeRate-API\n",
        "PKR2KWD = requests.get(\"https://v6.exchangerate-api.com/v6/96af3980d2992c47f7a6b9fe/pair/PKR/KWD\")\n",
        "AED2KWD = requests.get(\"https://v6.exchangerate-api.com/v6/96af3980d2992c47f7a6b9fe/pair/AED/KWD\")\n",
        "ZAR2KWD = requests.get(\"https://v6.exchangerate-api.com/v6/96af3980d2992c47f7a6b9fe/pair/ZAR/KWD\")\n",
        "LBP2KWD = requests.get(\"https://v6.exchangerate-api.com/v6/96af3980d2992c47f7a6b9fe/pair/LBP/KWD\")\n",
        "SAR2KWD = requests.get(\"https://v6.exchangerate-api.com/v6/96af3980d2992c47f7a6b9fe/pair/SAR/KWD\")\n",
        "\n",
        "PKR2KWD = PKR2KWD.json()['conversion_rate']\n",
        "AED2KWD = AED2KWD.json()['conversion_rate']\n",
        "ZAR2KWD = ZAR2KWD.json()['conversion_rate']\n",
        "LBP2KWD = LBP2KWD.json()['conversion_rate']\n",
        "SAR2KWD = SAR2KWD.json()['conversion_rate']\n",
        "\n",
        "\n",
        "conversion_rate = pd.DataFrame({'currency':['PKR2KWD','AED2KWD','ZAR2KWD','LBP2KWD', 'SAR2KWD'],\n",
        "                         'conversion_rate':[PKR2KWD, AED2KWD, ZAR2KWD, LBP2KWD, SAR2KWD]\n",
        "                         }) \n",
        "conversion_rate.to_csv('/content/drive/MyDrive/Colab Notebooks/conversion_rate.csv', index=False)\n",
        "\"\"\""
      ],
      "execution_count": null,
      "outputs": []
    },
    {
      "cell_type": "code",
      "metadata": {
        "id": "YCaJC_6WuzYi"
      },
      "source": [
        "conversion_rate =  pd.read_csv(\"/content/drive/MyDrive/Colab Notebooks/conversion_rate.csv\") \n",
        "\n",
        "df['price_KWD'] = ''\n",
        "df['price_KWD'] = np.where(df.currency == 'KWD', df['price'],df['price_KWD'] )\n",
        "df['price_KWD'] = np.where(df.currency == 'PKR', df['price']*conversion_rate['conversion_rate'][0] ,df['price_KWD'] )\n",
        "df['price_KWD'] = np.where(df.currency == 'AED', df['price']*conversion_rate['conversion_rate'][1] ,df['price_KWD'] )\n",
        "df['price_KWD'] = np.where(df.currency == 'ZAR', df['price']*conversion_rate['conversion_rate'][2] ,df['price_KWD'] )\n",
        "df['price_KWD'] = np.where(df.currency == 'LBP', df['price']*conversion_rate['conversion_rate'][3] ,df['price_KWD'] )\n",
        "df['price_KWD'] = np.where(df.currency == 'SAR', df['price']*conversion_rate['conversion_rate'][4] ,df['price_KWD'] )"
      ],
      "execution_count": null,
      "outputs": []
    },
    {
      "cell_type": "markdown",
      "metadata": {
        "id": "DePABLQUuPUN"
      },
      "source": [
        "### Dealing with outliers"
      ]
    },
    {
      "cell_type": "code",
      "metadata": {
        "id": "r9muSzcnssLE"
      },
      "source": [
        "plt.figure(figsize=[11,5])\n",
        "sns.distplot(df['price_KWD'])\n",
        "plt.title('Car Price Distribution Plot')"
      ],
      "execution_count": null,
      "outputs": []
    },
    {
      "cell_type": "markdown",
      "metadata": {
        "id": "1hI4lVuUxFaZ"
      },
      "source": [
        "we can see that all values are stacked on one side"
      ]
    },
    {
      "cell_type": "code",
      "metadata": {
        "id": "-1Pcd2xxB6Im"
      },
      "source": [
        "# car and mileage Distribution Plot\n",
        "plt.figure(figsize=[17,5])\n",
        "plt.subplot(1,2,1)\n",
        "sns.distplot(df['age'])\n",
        "plt.title('Car age Distribution Plot')\n",
        "\n",
        "plt.subplot(1,2,2)\n",
        "sns.distplot(df['mileage'])\n",
        "plt.title('Car Mileage Distribution Plot')\n"
      ],
      "execution_count": null,
      "outputs": []
    },
    {
      "cell_type": "code",
      "metadata": {
        "id": "AwYFLpmdTEcy"
      },
      "source": [
        "#there are only 745 cars with an age above 50\n",
        "df = df.loc[df.age<50] "
      ],
      "execution_count": null,
      "outputs": []
    },
    {
      "cell_type": "code",
      "metadata": {
        "id": "XHpwaWbIT43c"
      },
      "source": [
        "plt.figure(figsize=[17,5])\n",
        "plt.subplot(1,2,1)\n",
        "sns.distplot(df['age'])\n",
        "plt.title('Car age Distribution Plot')"
      ],
      "execution_count": null,
      "outputs": []
    },
    {
      "cell_type": "markdown",
      "metadata": {
        "id": "0nURSlwyxabe"
      },
      "source": [
        "Let's eliminate outliers from price in KWD"
      ]
    },
    {
      "cell_type": "code",
      "metadata": {
        "id": "tN6_MjMZtVpK"
      },
      "source": [
        "# Let's declare a variable that will be equal to the 99th percentile of the 'Price' variable\n",
        "q = df['price_KWD'].quantile(0.99)\n",
        "df_1 = df[df['price_KWD']<q]\n",
        "\n",
        "plt.figure(figsize=[11,5])\n",
        "sns.distplot(df_1['price_KWD'])\n",
        "plt.title('Car Price Distribution Plot')"
      ],
      "execution_count": null,
      "outputs": []
    },
    {
      "cell_type": "markdown",
      "metadata": {
        "id": "9Cl6mbFCxgYT"
      },
      "source": [
        "Same for outliers in mileage"
      ]
    },
    {
      "cell_type": "code",
      "metadata": {
        "id": "pJM3QA9Tuf71"
      },
      "source": [
        "q = df_1['mileage'].quantile(0.99)\n",
        "df_2 = df_1[df_1['mileage']<q]\n",
        "\n",
        "sns.distplot(df_2['mileage'])"
      ],
      "execution_count": null,
      "outputs": []
    },
    {
      "cell_type": "code",
      "metadata": {
        "id": "sMs4c-56U4GD"
      },
      "source": [
        "#Scatter Plot of independent variables vs dependent variables\n",
        "plt.figure(figsize=[20,7])\n",
        "plt.subplot(1,3,1)\n",
        "plt.title(\"Price and age\")\n",
        "sns.scatterplot(x='price_KWD',y='age',data=df_2)\n",
        "\n",
        "plt.subplot(1,3,2)\n",
        "plt.title(\"Price and mileage\")\n",
        "sns.scatterplot(x='price_KWD',y='mileage',data=df_2)\n"
      ],
      "execution_count": null,
      "outputs": []
    },
    {
      "cell_type": "markdown",
      "metadata": {
        "id": "ow4cYO_pVDkM"
      },
      "source": [
        "let's get rid of the outliers we see above"
      ]
    },
    {
      "cell_type": "code",
      "metadata": {
        "id": "1MaDZ4TJVHyP"
      },
      "source": [
        "i = df_2.loc[(df_2['age']>=20) & (df_2['price_KWD']>=15000)].index\n",
        "df_2.drop(i , inplace=True)"
      ],
      "execution_count": null,
      "outputs": []
    },
    {
      "cell_type": "code",
      "metadata": {
        "id": "ManOek8zb6kR"
      },
      "source": [
        "i = df_2.loc[(df_2['mileage']>=210000) & (df_2['price_KWD']>=15000)].index\n",
        "df_2.drop(i , inplace=True)"
      ],
      "execution_count": null,
      "outputs": []
    },
    {
      "cell_type": "code",
      "metadata": {
        "id": "9pePYumXbXDz"
      },
      "source": [
        "#Scatter Plot of independent variables vs dependent variables\n",
        "plt.figure(figsize=[20,7])\n",
        "plt.subplot(1,3,1)\n",
        "plt.title(\"Price and age\")\n",
        "sns.scatterplot(x='price_KWD',y='age',data=df_2)\n",
        "\n",
        "plt.subplot(1,3,2)\n",
        "plt.title(\"Price and mileage\")\n",
        "sns.scatterplot(x='price_KWD',y='mileage',data=df_2)\n",
        "\n",
        "df_2.to_csv('/content/drive/MyDrive/Colab Notebooks/df_2.csv')"
      ],
      "execution_count": null,
      "outputs": []
    },
    {
      "cell_type": "markdown",
      "metadata": {
        "id": "JrcT1RfTejQr"
      },
      "source": [
        "####price plot"
      ]
    },
    {
      "cell_type": "code",
      "metadata": {
        "id": "MyZZuTc9elpf"
      },
      "source": [
        "plt.figure(figsize=[11,5])\n",
        "sns.distplot(df_2['price_KWD'])\n",
        "plt.title('Car Price Distribution Plot')"
      ],
      "execution_count": null,
      "outputs": []
    },
    {
      "cell_type": "markdown",
      "metadata": {
        "id": "tBwFjk8-xoZ_"
      },
      "source": [
        "###Visulizing number of cars per country"
      ]
    },
    {
      "cell_type": "code",
      "metadata": {
        "id": "lBb1D1gSPF8w"
      },
      "source": [
        "ax = sns.countplot(x=\"country_code\", data=df_2)\n",
        "#countries do not have the same number of cars for sale\n"
      ],
      "execution_count": null,
      "outputs": []
    },
    {
      "cell_type": "markdown",
      "metadata": {
        "id": "xjc8t65uxuzo"
      },
      "source": [
        "### Dropping columns we don't need \n",
        "We are not dropping price because we will need it for each currency's model"
      ]
    },
    {
      "cell_type": "code",
      "metadata": {
        "id": "07x3Do0DUbBo"
      },
      "source": [
        "cleaned_data = df_2.drop([ 'year', 'updated_at','year_fixed','updated_at_date'], axis = 1)"
      ],
      "execution_count": null,
      "outputs": []
    },
    {
      "cell_type": "code",
      "metadata": {
        "id": "_xk0V0V_UQH3"
      },
      "source": [
        "# Reset index\n",
        "cleaned_data = cleaned_data.reset_index(drop=True)"
      ],
      "execution_count": null,
      "outputs": []
    },
    {
      "cell_type": "markdown",
      "metadata": {
        "id": "4vDmh_CiDt4X"
      },
      "source": [
        "###**QUESTION 2** Make sure that for the same MMS (or MM) combination, the higher the number of miles, the lower the price for the same year.\n"
      ]
    },
    {
      "cell_type": "code",
      "metadata": {
        "id": "-MFyA6bJGQGz"
      },
      "source": [
        "def correlation_check(df,target):\n",
        "  tmp_df = df.copy()\n",
        "  for col in tmp_df.columns:\n",
        "      if tmp_df[col].dtypes == 'object':\n",
        "          encoder = LabelEncoder()\n",
        "          tmp_df[col] = encoder.fit_transform(tmp_df[col])\n",
        "          \n",
        "  # Correated Features with target variable\n",
        "  print('\\n--Correated Features with target variable--\\n')\n",
        "  print(abs(tmp_df.corrwith(tmp_df[target])).sort_values(ascending=False)[1:])\n",
        "  return tmp_df"
      ],
      "execution_count": null,
      "outputs": []
    },
    {
      "cell_type": "code",
      "metadata": {
        "id": "yl6eyxJXD5S8"
      },
      "source": [
        "group = cleaned_data.groupby(['make_id','model_id','age'])\n",
        "col = ['make_id', 'model_id', 'submodel_id', 'price', 'mileage',\n",
        "       'country_code', 'currency', 'age', 'price_KWD', 'price_sorted',\n",
        "       'price_KWD_sorted']\n",
        "df_q2=pd.DataFrame(columns=col)\n",
        "\n",
        "\n",
        "for key, item in group:\n",
        "    line_mileage_sorted = group.get_group(key).sort_values('mileage',ascending=False)\n",
        "    line_price_sorted = group.get_group(key).sort_values('price_KWD',ascending=True)\n",
        "    line_mileage_sorted[['price_sorted','price_KWD_sorted']] = line_price_sorted[['price','price_KWD']].values.tolist()\n",
        "    line = line_mileage_sorted.values.tolist()\n",
        "    df_q2 = df_q2.append(pd.DataFrame( line, columns=col),ignore_index = True)\n",
        "\n",
        "   \n"
      ],
      "execution_count": null,
      "outputs": []
    },
    {
      "cell_type": "markdown",
      "metadata": {
        "id": "tgCxnAh4FPOZ"
      },
      "source": [
        "####Checking for correlation for age and mileage in reference with price_KWD_sorted"
      ]
    },
    {
      "cell_type": "code",
      "metadata": {
        "id": "l_PtqiAyw7Ph"
      },
      "source": [
        "df_q2"
      ],
      "execution_count": null,
      "outputs": []
    },
    {
      "cell_type": "code",
      "metadata": {
        "id": "c25RbEXnFOob"
      },
      "source": [
        "tmp = correlation_check(df_q2[['mileage','age','price_KWD_sorted']],'price_KWD_sorted')"
      ],
      "execution_count": null,
      "outputs": []
    },
    {
      "cell_type": "markdown",
      "metadata": {
        "id": "CszdDLfWSbDt"
      },
      "source": [
        "agge and mileage are correlated the same way with price"
      ]
    },
    {
      "cell_type": "markdown",
      "metadata": {
        "id": "ZHFZwnQ0QT1v"
      },
      "source": [
        "###**Question 3**: Make sure that for the same MMS and year (or MMY) combination, the lower the year, the lower the price, do miles matter?\n"
      ]
    },
    {
      "cell_type": "code",
      "metadata": {
        "id": "Mq7g4U_AEHWG"
      },
      "source": [
        "group = df_q2.groupby(['make_id','model_id'])\n",
        "\n",
        "col = ['make_id', 'model_id', 'submodel_id', 'price', 'mileage',\n",
        "       'country_code', 'currency', 'age', 'price_KWD', 'price_sorted',\n",
        "       'price_KWD_sorted']\n",
        "df_q3 = pd.DataFrame(columns=col)\n",
        "\n",
        "for key, item in group:\n",
        "    line_age_sorted = group.get_group(key).sort_values('age',ascending=False)\n",
        "    line_price_sorted = group.get_group(key).sort_values('price_KWD_sorted',ascending=True)\n",
        "    line_age_sorted[['price_sorted','price_KWD_sorted']] = line_price_sorted[['price_sorted','price_KWD_sorted']].values.tolist()\n",
        "    line = line_age_sorted.values.tolist()\n",
        "    df_q3 = df_q3.append(pd.DataFrame( line, columns=col),ignore_index = True)\n",
        "\n",
        "df_q3.drop_duplicates()   \n",
        "df_q3.to_csv('/content/drive/MyDrive/Colab Notebooks/df_q3.csv',index=False)"
      ],
      "execution_count": null,
      "outputs": []
    },
    {
      "cell_type": "code",
      "metadata": {
        "id": "vRtYtVoG6nOo"
      },
      "source": [
        "tmp = correlation_check(df_q3[['mileage','age','price_KWD_sorted']],'price_KWD_sorted')"
      ],
      "execution_count": null,
      "outputs": []
    },
    {
      "cell_type": "markdown",
      "metadata": {
        "id": "MwagOTz0SizG"
      },
      "source": [
        "age is more correlated with price"
      ]
    },
    {
      "cell_type": "markdown",
      "metadata": {
        "id": "PaDW69ff9rWJ"
      },
      "source": [
        "we wanted to test the same example on a dataset that hasn't been sorted by mileage"
      ]
    },
    {
      "cell_type": "code",
      "metadata": {
        "id": "7abr5nin90Gd"
      },
      "source": [
        "group = cleaned_data.groupby(['make_id','model_id'])\n",
        "\n",
        "col = ['make_id', 'model_id', 'submodel_id', 'price', 'mileage',\n",
        "       'country_code', 'currency', 'age', 'price_KWD', 'price_sorted',\n",
        "       'price_KWD_sorted']\n",
        "test = pd.DataFrame(columns=col)\n",
        "\n",
        "for key, item in group:\n",
        "    line_age_sorted = group.get_group(key).sort_values('age',ascending=False)\n",
        "    line_price_sorted = group.get_group(key).sort_values('price_KWD',ascending=True)\n",
        "    line_age_sorted[['price_sorted','price_KWD_sorted']] = line_price_sorted[['price','price_KWD']].values.tolist()\n",
        "    line = line_age_sorted.values.tolist()\n",
        "    test = test.append(pd.DataFrame( line, columns=col),ignore_index = True)\n",
        "\n",
        "test.drop_duplicates()   \n"
      ],
      "execution_count": null,
      "outputs": []
    },
    {
      "cell_type": "code",
      "metadata": {
        "id": "GNxF74Vr-r6L"
      },
      "source": [
        "tmp = correlation_check(test[['mileage','age','price_KWD_sorted']],'price_KWD_sorted')"
      ],
      "execution_count": null,
      "outputs": []
    },
    {
      "cell_type": "markdown",
      "metadata": {
        "id": "Rcts6gVMx2nN"
      },
      "source": [
        "###Normalization\n"
      ]
    },
    {
      "cell_type": "markdown",
      "metadata": {
        "id": "UWXJjhDiTQXz"
      },
      "source": [
        "we have privided you with a ready dataset so you do not waste time"
      ]
    },
    {
      "cell_type": "code",
      "metadata": {
        "id": "5TArSnaCSxlo"
      },
      "source": [
        "df_q3 = pd.read_csv('df_q3.csv')"
      ],
      "execution_count": null,
      "outputs": []
    },
    {
      "cell_type": "code",
      "metadata": {
        "id": "d2p3469FlzkU"
      },
      "source": [
        "#Scatter Plot of independent variables vs dependent variables\n",
        "plt.figure(figsize=[20,7])\n",
        "plt.subplot(1,3,1)\n",
        "plt.title(\"Price and age\")\n",
        "sns.scatterplot(x='price_KWD_sorted',y='age',data=df_q3)\n",
        "\n",
        "plt.subplot(1,3,2)\n",
        "plt.title(\"Price and mileage\")\n",
        "sns.scatterplot(x='price_KWD_sorted',y='mileage',data=df_q3)\n"
      ],
      "execution_count": null,
      "outputs": []
    },
    {
      "cell_type": "markdown",
      "metadata": {
        "id": "U_NypyjSOT40"
      },
      "source": [
        "####Applying normalization"
      ]
    },
    {
      "cell_type": "code",
      "metadata": {
        "id": "9Ob3eXb_OIVp"
      },
      "source": [
        "from sklearn.preprocessing import MinMaxScaler, StandardScaler\n",
        "scaler = MinMaxScaler()\n",
        "\n",
        "\n",
        "df_q3['price_KWD_scaled'] = scaler.fit_transform(np.array(df_q3['price_KWD_sorted']).reshape(-1,1))\n",
        "df_q3['price_scaled'] = scaler.fit_transform(np.array(df_q3['price_sorted']).reshape(-1,1))\n",
        "df_q3['mileage_scaled'] = scaler.fit_transform(np.array(df_q3['mileage']).reshape(-1,1))\n",
        "\n",
        "#df_q3 = df_q3.drop(['price_KWD_sorted','mileage','price_sorted'],axis=1)"
      ],
      "execution_count": null,
      "outputs": []
    },
    {
      "cell_type": "markdown",
      "metadata": {
        "id": "i6_ABKfYOXRV"
      },
      "source": [
        "####Visulizing results of normalization"
      ]
    },
    {
      "cell_type": "code",
      "metadata": {
        "id": "LjzkSpRuOL2n"
      },
      "source": [
        "plt.figure(figsize=[20,7])\n",
        "plt.subplot(1,2,1)\n",
        "plt.title(\"Price and age\")\n",
        "sns.scatterplot(x='price_KWD_scaled',y='age',data=df_q3)\n",
        "\n",
        "plt.subplot(1,2,2)\n",
        "plt.title(\"Price and mileage\")\n",
        "sns.scatterplot(x='price_KWD_scaled',y='mileage_scaled',data=df_q3)"
      ],
      "execution_count": null,
      "outputs": []
    },
    {
      "cell_type": "code",
      "metadata": {
        "id": "UvgH5sZoBRDq"
      },
      "source": [
        "final_data = df_q3.drop(['price_KWD','price','price_KWD_sorted','price_sorted','mileage'],axis=1)"
      ],
      "execution_count": null,
      "outputs": []
    },
    {
      "cell_type": "markdown",
      "metadata": {
        "id": "UK4oSRdtCqBI"
      },
      "source": [
        "###Data shuffling"
      ]
    },
    {
      "cell_type": "code",
      "metadata": {
        "id": "EZ3U9vIYB2UZ"
      },
      "source": [
        "final_data = final_data.sample(frac=1).reset_index(drop=True)"
      ],
      "execution_count": null,
      "outputs": []
    },
    {
      "cell_type": "markdown",
      "metadata": {
        "id": "q9AWbZ1ZDK_K"
      },
      "source": [
        "###Creating datasets for two tasks\n",
        "\n",
        "\n",
        "*   1st dataset \"final_data\" is for the rest of the tasks\n",
        "*   2nd dataset is for currency split\n",
        "\n"
      ]
    },
    {
      "cell_type": "code",
      "metadata": {
        "id": "1Q5Vn6nHDqVl"
      },
      "source": [
        "data_currency = final_data.drop(['price_KWD_scaled','country_code'],axis=1)"
      ],
      "execution_count": null,
      "outputs": []
    },
    {
      "cell_type": "code",
      "metadata": {
        "id": "JvN9jISpFSi1"
      },
      "source": [
        "final_data = final_data.drop(['currency','price_scaled'],axis=1)"
      ],
      "execution_count": null,
      "outputs": []
    },
    {
      "cell_type": "code",
      "metadata": {
        "id": "ZsVyw_-vHaLG"
      },
      "source": [
        "final_data['make_id'] = final_data['make_id'].astype('int64')\n",
        "final_data['age'] = final_data['age'].astype('int64')\n",
        "\n",
        "data_currency['make_id'] = data_currency['make_id'].astype('int64')\n",
        "data_currency['age'] = data_currency['age'].astype('int64')"
      ],
      "execution_count": null,
      "outputs": []
    },
    {
      "cell_type": "markdown",
      "metadata": {
        "id": "ChWljI7E8cUF"
      },
      "source": [
        "###Dummy columns for country"
      ]
    },
    {
      "cell_type": "code",
      "metadata": {
        "id": "St2OI1X1w7Cs"
      },
      "source": [
        "col_names = final_data['country_code'].unique().tolist()\n",
        "final_data[col_names] = pd.get_dummies(final_data['country_code'])"
      ],
      "execution_count": null,
      "outputs": []
    },
    {
      "cell_type": "code",
      "metadata": {
        "id": "VzkarIjoxjsz"
      },
      "source": [
        "final_data = final_data.drop('country_code',axis=1)"
      ],
      "execution_count": null,
      "outputs": []
    },
    {
      "cell_type": "markdown",
      "metadata": {
        "id": "M_ox2atpzZ6S"
      },
      "source": [
        "#Feature Selection"
      ]
    },
    {
      "cell_type": "markdown",
      "metadata": {
        "id": "V0nyxpS-TpuG"
      },
      "source": [
        "####correlation check"
      ]
    },
    {
      "cell_type": "code",
      "metadata": {
        "id": "QBOoM9JyVEJj"
      },
      "source": [
        "tmp_df = correlation_check(final_data ,'price_KWD_scaled') "
      ],
      "execution_count": null,
      "outputs": []
    },
    {
      "cell_type": "markdown",
      "metadata": {
        "id": "oojfexbQzkFq"
      },
      "source": [
        "####Correlation heatmap"
      ]
    },
    {
      "cell_type": "code",
      "metadata": {
        "id": "a9VcjCdA2OZ3"
      },
      "source": [
        "plt.figure(figsize=[15,7])\n",
        "sns.heatmap(tmp_df.corr(), annot=True)"
      ],
      "execution_count": null,
      "outputs": []
    },
    {
      "cell_type": "markdown",
      "metadata": {
        "id": "vtGa8aBrzSEw"
      },
      "source": [
        "####Multicollinearity "
      ]
    },
    {
      "cell_type": "code",
      "metadata": {
        "id": "i5NReiHlvmkj"
      },
      "source": [
        "def VIF_check(df):\n",
        "  #Checking Multicollinearity Using VIF\n",
        "  from statsmodels.stats.outliers_influence import variance_inflation_factor\n",
        "  variables = df \n",
        "  vif = pd.DataFrame()\n",
        "  vif[\"VIF\"] = [variance_inflation_factor(variables.values, i) for i in range(variables.shape[1])]\n",
        "  # Finally, I like to include names so it is easier to explore the result\n",
        "  vif[\"Features\"] = variables.columns\n",
        "  return vif\n",
        "\n",
        "VIF_check(tmp_df.drop(['price_KWD_scaled','model_id','submodel_id'],axis=1))"
      ],
      "execution_count": null,
      "outputs": []
    },
    {
      "cell_type": "code",
      "metadata": {
        "id": "-nSEVSVRxzIC"
      },
      "source": [
        "final_data = final_data.drop('KW',axis=1)"
      ],
      "execution_count": null,
      "outputs": []
    },
    {
      "cell_type": "markdown",
      "metadata": {
        "id": "kidtL1_WvYq8"
      },
      "source": [
        "###Splitting the data"
      ]
    },
    {
      "cell_type": "code",
      "metadata": {
        "id": "wSNGjvv4vd2h"
      },
      "source": [
        "#cleaned_data = pd.read_csv('/content/drive/MyDrive/Colab Notebooks/cleaned_data_v1.csv')\n",
        "def split_data(data,y):\n",
        "  feat = data.drop([y],axis=1)\n",
        "  y = data[y]\n",
        "  x_train, x_test, y_train, y_test = train_test_split(feat,y,test_size=0.2, random_state=365)\n",
        "  return  x_train, x_test, y_train, y_test"
      ],
      "execution_count": null,
      "outputs": []
    },
    {
      "cell_type": "markdown",
      "metadata": {
        "id": "k7ajQKM3ilU7"
      },
      "source": [
        "## Question 1: Model"
      ]
    },
    {
      "cell_type": "markdown",
      "metadata": {
        "id": "0KfM3UGLyy3k"
      },
      "source": [
        "Of course for this work we tested many approaches. At first, we dropped columns that had NaN values such as submodel and model_id and we tested on several models such as lienar regression, LGBM... and we found acceptable results. Later, we used the features that we have in x_train and x_test and we tested on the models that accepted NaN. The results were way better on our testing set."
      ]
    },
    {
      "cell_type": "code",
      "metadata": {
        "id": "tQoUSZ2kIqIc"
      },
      "source": [
        "x_train, x_test, y_train, y_test = split_data(final_data, 'price_KWD_scaled')"
      ],
      "execution_count": null,
      "outputs": []
    },
    {
      "cell_type": "code",
      "metadata": {
        "id": "iRT3sKp72e1P"
      },
      "source": [
        "\n",
        "def metrics_calcul(pred_y, test_y):\n",
        "  MAE = metrics.mean_absolute_error(test_y, pred_y)\n",
        "  MSE = metrics.mean_squared_error(test_y, pred_y)\n",
        "  RMSE = np.sqrt(metrics.mean_squared_error(test_y, pred_y))\n",
        "  print('MAE: ',MAE)\n",
        "  print('MSE: ',MSE)\n",
        "  print('RMSE: ',RMSE)\n",
        "  return MAE,MSE,RMSE"
      ],
      "execution_count": null,
      "outputs": []
    },
    {
      "cell_type": "code",
      "metadata": {
        "id": "7vwysvzP3gBh"
      },
      "source": [
        "from xgboost import plot_importance\n",
        "from matplotlib import pyplot\n",
        "\n",
        "def fit_pred(model, X_train,Y_train,X_test,Y_test):\n",
        "  # Training Model\n",
        "  model.fit(X_train,Y_train)\n",
        "  # Model Summary\n",
        "  model_pred = model.predict(X_test)\n",
        "\n",
        "  r_squared = r2_score(Y_test,model_pred)\n",
        "  rmse = np.sqrt(mean_squared_error(Y_test,model_pred))\n",
        "  print('rmse for trained: ', rmse)\n",
        "  print('r_squared for trained: ', r_squared)\n",
        "\n",
        "  return model, model_pred"
      ],
      "execution_count": null,
      "outputs": []
    },
    {
      "cell_type": "code",
      "metadata": {
        "id": "3-MN6FELIi5O"
      },
      "source": [
        "def GridSearch(clf, params, X, y):\n",
        "    cscv = GridSearchCV(clf, params, scoring='neg_mean_squared_error', n_jobs=1, cv=5)\n",
        "    cscv.fit(X, y)\n",
        " \n",
        "    print(cscv.cv_results_)\n",
        "    print(cscv.best_params_)\n",
        "\n",
        "\n",
        "#y_pred_lgbm = fit_pred(lgbm, x_train, y_train,x_test,y_test)\n",
        "#MAE_lgbm, MSE_lgbm, RMSE_lgbm = metrics_calcul(y_pred_lgbm, y_test)\n",
        "\n",
        "param = {\n",
        "        'objective': 'regression',\n",
        "        'n_estimators': 350,\n",
        "        'max_depth': 6,\n",
        "        'min_child_samples': 20,\n",
        "        'reg_lambd': 0.1,\n",
        "        'reg_alpha': 0.1,\n",
        "        'metric': 'rmse',\n",
        "        'colsample_bytree': 1,\n",
        "        'subsample': 0.8,\n",
        "        'num_leaves' : 40,\n",
        "        'random_state': 2018}\n",
        "lgbm = LGBMRegressor(**param)\n",
        "\n",
        "adj_params = {'n_estimators': range(200, 400, 50),\n",
        "              'colsample_bytree': np.arange(0.4, 0.6),\n",
        "              'max_depth': range(10, 20, 5),\n",
        "              'subsample': np.arange(0.5, 1.0, 0.1),\n",
        "              'reg_lambda': np.arange(1.0, 1.5, 0.25),\n",
        "              'min_child_samples': range(2,5)}\n",
        "\n",
        " \n",
        "GridSearch(lgbm , adj_params , x_train, y_train)"
      ],
      "execution_count": null,
      "outputs": []
    },
    {
      "cell_type": "code",
      "metadata": {
        "id": "BBxxd5OadzPh"
      },
      "source": [
        "def feature_imp(model):\n",
        "  # plot feature importance\n",
        "  plot_importance(model)\n",
        "  pyplot.show()"
      ],
      "execution_count": null,
      "outputs": []
    },
    {
      "cell_type": "code",
      "metadata": {
        "id": "vYiGbbF1rMvG"
      },
      "source": [
        "def print_res(y_test,pred):\n",
        "  # Finally, let's manually check these predictions\n",
        "  # To obtain the actual prices, we take the exponential of the log_price\n",
        "  df_ev = pd.DataFrame(np.exp(pred), columns=['Predicted Price'])\n",
        "\n",
        "  # We can also include the Actual price column in that data frame (so we can manually compare them)\n",
        "  y_test = y_test.reset_index(drop=True)\n",
        "  df_ev['Actual Price'] = np.exp(y_test)\n",
        "\n",
        "  # we can calculate the difference between the targets and the predictions\n",
        "  df_ev['Residual'] = df_ev['Actual Price'] - df_ev['Predicted Price']\n",
        "  df_ev['Difference%'] = np.absolute(df_ev['Residual']/df_ev['Actual Price']*100)\n",
        "\n",
        "  pd.set_option('display.float_format', lambda x: '%.2f' % x)\n",
        "  df_ev.sort_values(by=['Difference%'])\n",
        "  print(\"mean of the difference in the test set\",df_ev['Difference%'].mean())\n",
        "  return df_ev"
      ],
      "execution_count": null,
      "outputs": []
    },
    {
      "cell_type": "code",
      "metadata": {
        "colab": {
          "base_uri": "https://localhost:8080/",
          "height": 397
        },
        "id": "gD1y__YaOOLT",
        "outputId": "b1ba5dc5-d659-4293-bdb8-e123018d7bb5"
      },
      "source": [
        "x=XGBRegressor(n_estimators =  200,\n",
        "        max_depth = 15 ,\n",
        "        min_child_samples =  5, \n",
        "        colsample_bytree = 0.4,\n",
        "        subsample = 0.3,\n",
        "        n_jobs = 3 ,\n",
        "        reg_lambda = 1.5)\n",
        "model, pred_xgb = fit_pred(x, x_train, y_train,x_test,y_test)\n",
        "feature_imp(model)\n",
        "MAE_x, MSE_x, RMSE_x = metrics_calcul(pred_xgb, y_test)"
      ],
      "execution_count": null,
      "outputs": [
        {
          "output_type": "stream",
          "text": [
            "[10:08:11] WARNING: /workspace/src/objective/regression_obj.cu:152: reg:linear is now deprecated in favor of reg:squarederror.\n",
            "rmse for trained:  0.017592297312684402\n",
            "r_squared for trained:  0.9838107795089516\n"
          ],
          "name": "stdout"
        },
        {
          "output_type": "display_data",
          "data": {
            "image/png": "[encoded data removed]",
            "text/plain": [
              "<Figure size 432x288 with 1 Axes>"
            ]
          },
          "metadata": {
            "tags": [],
            "needs_background": "light"
          }
        },
        {
          "output_type": "stream",
          "text": [
            "MAE:  0.007345441984205093\n",
            "MSE:  0.00030948892473788285\n",
            "RMSE:  0.017592297312684402\n"
          ],
          "name": "stdout"
        }
      ]
    },
    {
      "cell_type": "code",
      "metadata": {
        "colab": {
          "base_uri": "https://localhost:8080/",
          "height": 376
        },
        "id": "omQ3iGUqUAUs",
        "outputId": "8b2271f4-db8f-46c2-ce40-e1ff4716a33c"
      },
      "source": [
        "df_ev = print_res(y_test,pred_xgb)\n",
        "df_ev.tail(10)"
      ],
      "execution_count": null,
      "outputs": [
        {
          "output_type": "stream",
          "text": [
            "mean of the difference in the test set 0.7325813175041712\n"
          ],
          "name": "stdout"
        },
        {
          "output_type": "execute_result",
          "data": {
            "text/html": [
              "<div>\n",
              "<style scoped>\n",
              "    .dataframe tbody tr th:only-of-type {\n",
              "        vertical-align: middle;\n",
              "    }\n",
              "\n",
              "    .dataframe tbody tr th {\n",
              "        vertical-align: top;\n",
              "    }\n",
              "\n",
              "    .dataframe thead th {\n",
              "        text-align: right;\n",
              "    }\n",
              "</style>\n",
              "<table border=\"1\" class=\"dataframe\">\n",
              "  <thead>\n",
              "    <tr style=\"text-align: right;\">\n",
              "      <th></th>\n",
              "      <th>Predicted Price</th>\n",
              "      <th>Actual Price</th>\n",
              "      <th>Residual</th>\n",
              "      <th>Difference%</th>\n",
              "    </tr>\n",
              "  </thead>\n",
              "  <tbody>\n",
              "    <tr>\n",
              "      <th>180475</th>\n",
              "      <td>1.11</td>\n",
              "      <td>1.11</td>\n",
              "      <td>0.00</td>\n",
              "      <td>0.03</td>\n",
              "    </tr>\n",
              "    <tr>\n",
              "      <th>180476</th>\n",
              "      <td>1.22</td>\n",
              "      <td>1.25</td>\n",
              "      <td>0.03</td>\n",
              "      <td>2.67</td>\n",
              "    </tr>\n",
              "    <tr>\n",
              "      <th>180477</th>\n",
              "      <td>1.15</td>\n",
              "      <td>1.14</td>\n",
              "      <td>-0.01</td>\n",
              "      <td>0.89</td>\n",
              "    </tr>\n",
              "    <tr>\n",
              "      <th>180478</th>\n",
              "      <td>1.11</td>\n",
              "      <td>1.10</td>\n",
              "      <td>-0.00</td>\n",
              "      <td>0.39</td>\n",
              "    </tr>\n",
              "    <tr>\n",
              "      <th>180479</th>\n",
              "      <td>1.01</td>\n",
              "      <td>1.00</td>\n",
              "      <td>-0.01</td>\n",
              "      <td>0.54</td>\n",
              "    </tr>\n",
              "    <tr>\n",
              "      <th>180480</th>\n",
              "      <td>1.13</td>\n",
              "      <td>1.11</td>\n",
              "      <td>-0.01</td>\n",
              "      <td>1.03</td>\n",
              "    </tr>\n",
              "    <tr>\n",
              "      <th>180481</th>\n",
              "      <td>1.10</td>\n",
              "      <td>1.10</td>\n",
              "      <td>-0.01</td>\n",
              "      <td>0.66</td>\n",
              "    </tr>\n",
              "    <tr>\n",
              "      <th>180482</th>\n",
              "      <td>1.42</td>\n",
              "      <td>1.40</td>\n",
              "      <td>-0.02</td>\n",
              "      <td>1.56</td>\n",
              "    </tr>\n",
              "    <tr>\n",
              "      <th>180483</th>\n",
              "      <td>1.11</td>\n",
              "      <td>1.10</td>\n",
              "      <td>-0.01</td>\n",
              "      <td>1.23</td>\n",
              "    </tr>\n",
              "    <tr>\n",
              "      <th>180484</th>\n",
              "      <td>1.14</td>\n",
              "      <td>1.12</td>\n",
              "      <td>-0.01</td>\n",
              "      <td>1.15</td>\n",
              "    </tr>\n",
              "  </tbody>\n",
              "</table>\n",
              "</div>"
            ],
            "text/plain": [
              "        Predicted Price  Actual Price  Residual  Difference%\n",
              "180475             1.11          1.11      0.00         0.03\n",
              "180476             1.22          1.25      0.03         2.67\n",
              "180477             1.15          1.14     -0.01         0.89\n",
              "180478             1.11          1.10     -0.00         0.39\n",
              "180479             1.01          1.00     -0.01         0.54\n",
              "180480             1.13          1.11     -0.01         1.03\n",
              "180481             1.10          1.10     -0.01         0.66\n",
              "180482             1.42          1.40     -0.02         1.56\n",
              "180483             1.11          1.10     -0.01         1.23\n",
              "180484             1.14          1.12     -0.01         1.15"
            ]
          },
          "metadata": {
            "tags": []
          },
          "execution_count": 65
        }
      ]
    },
    {
      "cell_type": "code",
      "metadata": {
        "id": "LLKiZBJpoB6G"
      },
      "source": [
        "#adding the prediction to the test set\n",
        "test_set = x_test\n",
        "test_set.insert(9,\"prediction\",pred_xgb)"
      ],
      "execution_count": null,
      "outputs": []
    },
    {
      "cell_type": "markdown",
      "metadata": {
        "id": "GYPAWPWdLw-q"
      },
      "source": [
        "We are checking the number of predictions that do not respect the rule from question 2 which we found to be 9458.\n",
        "We think that a slim difference in price and mileage does not matter too much so we counted the number of cars that have a wide difference and do not respect the rule.\n",
        "We found 7400 elements that do not respect the new rule that we set which is less than 5% of predictions"
      ]
    },
    {
      "cell_type": "code",
      "metadata": {
        "colab": {
          "base_uri": "https://localhost:8080/",
          "height": 69
        },
        "id": "zlXjUVIYolam",
        "outputId": "e21d14f5-06bf-4d8c-b78c-3387e13da6c0"
      },
      "source": [
        "group = test_set.groupby(['make_id','model_id','submodel_id','age'])\n",
        "count=0\n",
        "for key, item in group:\n",
        "    prev_p= 0\n",
        "    prev_m = 1000000\n",
        "    line_mileage = group.get_group(key).sort_values('mileage_scaled',ascending=False)\n",
        "    for price, mile in zip(line_mileage['prediction'],line_mileage['mileage_scaled']):\n",
        "      if price < prev_p and mile != prev_m :\n",
        "          count +=1\n",
        "          prev_p = price\n",
        "          prev_m = mile\n",
        "      else:\n",
        "          prev_p = price\n",
        "          prev_m = mile\n",
        "    \n",
        "print(\"number of cars that do not respect the rule from question 2 is:\",count)  \n",
        "\"\"\"\n",
        "        price_non_scaled = price * (max_price - min_price) + min_price\n",
        "        prev_non_scaled = prev_p * (max_price - min_price) + min_price\n",
        "\n",
        "        mileage_non_scaled = mile * (max_mile - min_mile) + min_mile\n",
        "        prev_m_non_scaled = prev_m * (max_mile - min_mile) + min_mile\n",
        "\"\"\"\n",
        "      #print(price, mile)\n",
        "          \n"
      ],
      "execution_count": null,
      "outputs": [
        {
          "output_type": "stream",
          "text": [
            "number of cars that do not respect the rule from question 2 is: 9464\n"
          ],
          "name": "stdout"
        },
        {
          "output_type": "execute_result",
          "data": {
            "application/vnd.google.colaboratory.intrinsic+json": {
              "type": "string"
            },
            "text/plain": [
              "'\\n        price_non_scaled = price * (max_price - min_price) + min_price\\n        prev_non_scaled = prev_p * (max_price - min_price) + min_price\\n\\n        mileage_non_scaled = mile * (max_mile - min_mile) + min_mile\\n        prev_m_non_scaled = prev_m * (max_mile - min_mile) + min_mile\\n'"
            ]
          },
          "metadata": {
            "tags": []
          },
          "execution_count": 39
        }
      ]
    },
    {
      "cell_type": "markdown",
      "metadata": {
        "id": "LNEzXfHoNutT"
      },
      "source": [
        "We are checking the number of predictions that do not respect the rule from question 3 which we found to be 58 which represents 0.036% of the test set. This number is negligeable."
      ]
    },
    {
      "cell_type": "code",
      "metadata": {
        "colab": {
          "base_uri": "https://localhost:8080/"
        },
        "id": "dU9PM2pHNyzY",
        "outputId": "a6d4e077-68e6-4e2c-efb8-c1b7d5cb56f7"
      },
      "source": [
        "group = test_set.groupby(['make_id','model_id','submodel_id'])\n",
        "count=0\n",
        "for key, item in group:\n",
        "    prev_p= 0\n",
        "    prev_age = 500\n",
        "    line_age = group.get_group(key).sort_values('age',ascending=False)\n",
        "    for price, age in zip(line_age['prediction'],line_mileage['age']):\n",
        "        \n",
        "        \n",
        "        if price < prev_p and prev_age != age :\n",
        "          count +=1\n",
        "          prev_p = price\n",
        "          prev_age = age\n",
        "        else:\n",
        "          prev_p = price\n",
        "          prev_age = age\n",
        "    \n",
        "print(\"number of cars that do not respect the rule from question 3 is:\",count)    \n"
      ],
      "execution_count": null,
      "outputs": [
        {
          "output_type": "stream",
          "text": [
            "number of cars that do not respect the rule from question 3 is: 60\n"
          ],
          "name": "stdout"
        }
      ]
    },
    {
      "cell_type": "markdown",
      "metadata": {
        "id": "2OI1m3XqdW_Y"
      },
      "source": [
        "##**Question** 6 : Optional: visuals of price depreciation (price curve for same MMS/MM for different years)\n"
      ]
    },
    {
      "cell_type": "markdown",
      "metadata": {
        "id": "TJ3ZqXVcWIUc"
      },
      "source": [
        "we assumed that price means prediction"
      ]
    },
    {
      "cell_type": "code",
      "metadata": {
        "id": "r2IMXQfkBJ1H",
        "colab": {
          "base_uri": "https://localhost:8080/",
          "height": 1000
        },
        "outputId": "b46a92a6-c60d-47a0-9790-b586426d94a9"
      },
      "source": [
        "def plot_age_price(list_age, list_price):\n",
        "    plt.plot(list_age, list_price,color='red', marker='o')\n",
        "    plt.title('Age Vs price')\n",
        "    plt.xlabel('Age')\n",
        "    plt.ylabel('price')\n",
        "    plt.grid(True)\n",
        "    plt.show()\n",
        "\n",
        "group = test_set.groupby(['make_id','model_id','submodel_id'])\n",
        "for key, item in group:\n",
        "    line = group.get_group(key)[['make_id','model_id','submodel_id','age','prediction']].sort_values('age',ascending=False)\n",
        "    list_age = line['age'].values.tolist()\n",
        "    list_price = line['prediction'].values.tolist()\n",
        "    plot_age_price(list_age, list_price)\n",
        "    "
      ],
      "execution_count": null,
      "outputs": [
        {
          "output_type": "display_data",
          "data": {
            "image/png": "[encoded data removed]",
            "text/plain": [
              "<Figure size 432x288 with 1 Axes>"
            ]
          },
          "metadata": {
            "tags": [],
            "needs_background": "light"
          }
        },
        {
          "output_type": "display_data",
          "data": {
            "image/png": "[encoded data removed]",
            "text/plain": [
              "<Figure size 432x288 with 1 Axes>"
            ]
          },
          "metadata": {
            "tags": [],
            "needs_background": "light"
          }
        },
        {
          "output_type": "display_data",
          "data": {
            "image/png": "[encoded data removed]",
            "text/plain": [
              "<Figure size 432x288 with 1 Axes>"
            ]
          },
          "metadata": {
            "tags": [],
            "needs_background": "light"
          }
        },
        {
          "output_type": "display_data",
          "data": {
            "image/png": "[encoded data removed]",
            "text/plain": [
              "<Figure size 432x288 with 1 Axes>"
            ]
          },
          "metadata": {
            "tags": [],
            "needs_background": "light"
          }
        },
        {
          "output_type": "display_data",
          "data": {
            "image/png": "[encoded data removed]",
            "text/plain": [
              "<Figure size 432x288 with 1 Axes>"
            ]
          },
          "metadata": {
            "tags": [],
            "needs_background": "light"
          }
        },
        {
          "output_type": "display_data",
          "data": {
            "image/png": "[encoded data removed]",
            "text/plain": [
              "<Figure size 432x288 with 1 Axes>"
            ]
          },
          "metadata": {
            "tags": [],
            "needs_background": "light"
          }
        },
        {
          "output_type": "display_data",
          "data": {
            "image/png": "[encoded data removed]",
            "text/plain": [
              "<Figure size 432x288 with 1 Axes>"
            ]
          },
          "metadata": {
            "tags": [],
            "needs_background": "light"
          }
        },
        {
          "output_type": "display_data",
          "data": {
            "image/png": "[encoded data removed]",
            "text/plain": [
              "<Figure size 432x288 with 1 Axes>"
            ]
          },
          "metadata": {
            "tags": [],
            "needs_background": "light"
          }
        },
        {
          "output_type": "display_data",
          "data": {
            "image/png": "[encoded data removed]",
            "text/plain": [
              "<Figure size 432x288 with 1 Axes>"
            ]
          },
          "metadata": {
            "tags": [],
            "needs_background": "light"
          }
        },
        {
          "output_type": "display_data",
          "data": {
            "image/png": "[encoded data removed]",
            "text/plain": [
              "<Figure size 432x288 with 1 Axes>"
            ]
          },
          "metadata": {
            "tags": [],
            "needs_background": "light"
          }
        },
        {
          "output_type": "display_data",
          "data": {
            "image/png": "[encoded data removed]",
            "text/plain": [
              "<Figure size 432x288 with 1 Axes>"
            ]
          },
          "metadata": {
            "tags": [],
            "needs_background": "light"
          }
        },
        {
          "output_type": "display_data",
          "data": {
            "image/png": "[encoded data removed]",
            "text/plain": [
              "<Figure size 432x288 with 1 Axes>"
            ]
          },
          "metadata": {
            "tags": [],
            "needs_background": "light"
          }
        },
        {
          "output_type": "display_data",
          "data": {
            "image/png": "[encoded data removed]",
            "text/plain": [
              "<Figure size 432x288 with 1 Axes>"
            ]
          },
          "metadata": {
            "tags": [],
            "needs_background": "light"
          }
        },
        {
          "output_type": "display_data",
          "data": {
            "image/png": "[encoded data removed]",
            "text/plain": [
              "<Figure size 432x288 with 1 Axes>"
            ]
          },
          "metadata": {
            "tags": [],
            "needs_background": "light"
          }
        },
        {
          "output_type": "display_data",
          "data": {
            "image/png": "[encoded data removed]",
            "text/plain": [
              "<Figure size 432x288 with 1 Axes>"
            ]
          },
          "metadata": {
            "tags": [],
            "needs_background": "light"
          }
        },
        {
          "output_type": "display_data",
          "data": {
            "image/png": "[encoded data removed]",
            "text/plain": [
              "<Figure size 432x288 with 1 Axes>"
            ]
          },
          "metadata": {
            "tags": [],
            "needs_background": "light"
          }
        },
        {
          "output_type": "display_data",
          "data": {
            "image/png": "[encoded data removed]",
            "text/plain": [
              "<Figure size 432x288 with 1 Axes>"
            ]
          },
          "metadata": {
            "tags": [],
            "needs_background": "light"
          }
        },
        {
          "output_type": "display_data",
          "data": {
            "image/png": "[encoded data removed]",
            "text/plain": [
              "<Figure size 432x288 with 1 Axes>"
            ]
          },
          "metadata": {
            "tags": [],
            "needs_background": "light"
          }
        },
        {
          "output_type": "display_data",
          "data": {
            "image/png": "[encoded data removed]",
            "text/plain": [
              "<Figure size 432x288 with 1 Axes>"
            ]
          },
          "metadata": {
            "tags": [],
            "needs_background": "light"
          }
        },
        {
          "output_type": "display_data",
          "data": {
            "image/png": "[encoded data removed]",
            "text/plain": [
              "<Figure size 432x288 with 1 Axes>"
            ]
          },
          "metadata": {
            "tags": [],
            "needs_background": "light"
          }
        },
        {
          "output_type": "display_data",
          "data": {
            "image/png": "[encoded data removed]",
            "text/plain": [
              "<Figure size 432x288 with 1 Axes>"
            ]
          },
          "metadata": {
            "tags": [],
            "needs_background": "light"
          }
        },
        {
          "output_type": "display_data",
          "data": {
            "image/png": "[encoded data removed]",
            "text/plain": [
              "<Figure size 432x288 with 1 Axes>"
            ]
          },
          "metadata": {
            "tags": [],
            "needs_background": "light"
          }
        },
        {
          "output_type": "display_data",
          "data": {
            "image/png": "[encoded data removed]",
            "text/plain": [
              "<Figure size 432x288 with 1 Axes>"
            ]
          },
          "metadata": {
            "tags": [],
            "needs_background": "light"
          }
        },
        {
          "output_type": "display_data",
          "data": {
            "image/png": "[encoded data removed]",
            "text/plain": [
              "<Figure size 432x288 with 1 Axes>"
            ]
          },
          "metadata": {
            "tags": [],
            "needs_background": "light"
          }
        },
        {
          "output_type": "display_data",
          "data": {
            "image/png": "[encoded data removed]",
            "text/plain": [
              "<Figure size 432x288 with 1 Axes>"
            ]
          },
          "metadata": {
            "tags": [],
            "needs_background": "light"
          }
        },
        {
          "output_type": "display_data",
          "data": {
            "image/png": "[encoded data removed]",
            "text/plain": [
              "<Figure size 432x288 with 1 Axes>"
            ]
          },
          "metadata": {
            "tags": [],
            "needs_background": "light"
          }
        },
        {
          "output_type": "display_data",
          "data": {
            "image/png": "[encoded data removed]",
            "text/plain": [
              "<Figure size 432x288 with 1 Axes>"
            ]
          },
          "metadata": {
            "tags": [],
            "needs_background": "light"
          }
        },
        {
          "output_type": "display_data",
          "data": {
            "image/png": "[encoded data removed]",
            "text/plain": [
              "<Figure size 432x288 with 1 Axes>"
            ]
          },
          "metadata": {
            "tags": [],
            "needs_background": "light"
          }
        },
        {
          "output_type": "display_data",
          "data": {
            "image/png": "[encoded data removed]",
            "text/plain": [
              "<Figure size 432x288 with 1 Axes>"
            ]
          },
          "metadata": {
            "tags": [],
            "needs_background": "light"
          }
        },
        {
          "output_type": "display_data",
          "data": {
            "image/png": "[encoded data removed]",
            "text/plain": [
              "<Figure size 432x288 with 1 Axes>"
            ]
          },
          "metadata": {
            "tags": [],
            "needs_background": "light"
          }
        },
        {
          "output_type": "display_data",
          "data": {
            "image/png": "[encoded data removed]",
            "text/plain": [
              "<Figure size 432x288 with 1 Axes>"
            ]
          },
          "metadata": {
            "tags": [],
            "needs_background": "light"
          }
        },
        {
          "output_type": "display_data",
          "data": {
            "image/png": "[encoded data removed]",
            "text/plain": [
              "<Figure size 432x288 with 1 Axes>"
            ]
          },
          "metadata": {
            "tags": [],
            "needs_background": "light"
          }
        },
        {
          "output_type": "display_data",
          "data": {
            "image/png": "[encoded data removed]",
            "text/plain": [
              "<Figure size 432x288 with 1 Axes>"
            ]
          },
          "metadata": {
            "tags": [],
            "needs_background": "light"
          }
        },
        {
          "output_type": "display_data",
          "data": {
            "image/png": "[encoded data removed]",
            "text/plain": [
              "<Figure size 432x288 with 1 Axes>"
            ]
          },
          "metadata": {
            "tags": [],
            "needs_background": "light"
          }
        },
        {
          "output_type": "display_data",
          "data": {
            "image/png": "[encoded data removed]",
            "text/plain": [
              "<Figure size 432x288 with 1 Axes>"
            ]
          },
          "metadata": {
            "tags": [],
            "needs_background": "light"
          }
        },
        {
          "output_type": "display_data",
          "data": {
            "image/png": "[encoded data removed]",
            "text/plain": [
              "<Figure size 432x288 with 1 Axes>"
            ]
          },
          "metadata": {
            "tags": [],
            "needs_background": "light"
          }
        },
        {
          "output_type": "display_data",
          "data": {
            "image/png": "[encoded data removed]",
            "text/plain": [
              "<Figure size 432x288 with 1 Axes>"
            ]
          },
          "metadata": {
            "tags": [],
            "needs_background": "light"
          }
        },
        {
          "output_type": "display_data",
          "data": {
            "image/png": "[encoded data removed]",
            "text/plain": [
              "<Figure size 432x288 with 1 Axes>"
            ]
          },
          "metadata": {
            "tags": [],
            "needs_background": "light"
          }
        },
        {
          "output_type": "display_data",
          "data": {
            "image/png": "[encoded data removed]",
            "text/plain": [
              "<Figure size 432x288 with 1 Axes>"
            ]
          },
          "metadata": {
            "tags": [],
            "needs_background": "light"
          }
        },
        {
          "output_type": "display_data",
          "data": {
            "image/png": "[encoded data removed]",
            "text/plain": [
              "<Figure size 432x288 with 1 Axes>"
            ]
          },
          "metadata": {
            "tags": [],
            "needs_background": "light"
          }
        },
        {
          "output_type": "error",
          "ename": "KeyboardInterrupt",
          "evalue": "ignored",
          "traceback": [
            "\u001b[0;31m---------------------------------------------------------------------------\u001b[0m",
            "\u001b[0;31mKeyboardInterrupt\u001b[0m                         Traceback (most recent call last)",
            "\u001b[0;32m<ipython-input-41-3c29adc29314>\u001b[0m in \u001b[0;36m<module>\u001b[0;34m()\u001b[0m\n\u001b[1;32m     12\u001b[0m     \u001b[0mlist_age\u001b[0m \u001b[0;34m=\u001b[0m \u001b[0mline\u001b[0m\u001b[0;34m[\u001b[0m\u001b[0;34m'age'\u001b[0m\u001b[0;34m]\u001b[0m\u001b[0;34m.\u001b[0m\u001b[0mvalues\u001b[0m\u001b[0;34m.\u001b[0m\u001b[0mtolist\u001b[0m\u001b[0;34m(\u001b[0m\u001b[0;34m)\u001b[0m\u001b[0;34m\u001b[0m\u001b[0;34m\u001b[0m\u001b[0m\n\u001b[1;32m     13\u001b[0m     \u001b[0mlist_price\u001b[0m \u001b[0;34m=\u001b[0m \u001b[0mline\u001b[0m\u001b[0;34m[\u001b[0m\u001b[0;34m'prediction'\u001b[0m\u001b[0;34m]\u001b[0m\u001b[0;34m.\u001b[0m\u001b[0mvalues\u001b[0m\u001b[0;34m.\u001b[0m\u001b[0mtolist\u001b[0m\u001b[0;34m(\u001b[0m\u001b[0;34m)\u001b[0m\u001b[0;34m\u001b[0m\u001b[0;34m\u001b[0m\u001b[0m\n\u001b[0;32m---> 14\u001b[0;31m     \u001b[0mplot_age_price\u001b[0m\u001b[0;34m(\u001b[0m\u001b[0mlist_age\u001b[0m\u001b[0;34m,\u001b[0m \u001b[0mlist_price\u001b[0m\u001b[0;34m)\u001b[0m\u001b[0;34m\u001b[0m\u001b[0;34m\u001b[0m\u001b[0m\n\u001b[0m\u001b[1;32m     15\u001b[0m \u001b[0;34m\u001b[0m\u001b[0m\n",
            "\u001b[0;32m<ipython-input-41-3c29adc29314>\u001b[0m in \u001b[0;36mplot_age_price\u001b[0;34m(list_age, list_price)\u001b[0m\n\u001b[1;32m      5\u001b[0m     \u001b[0mplt\u001b[0m\u001b[0;34m.\u001b[0m\u001b[0mylabel\u001b[0m\u001b[0;34m(\u001b[0m\u001b[0;34m'price'\u001b[0m\u001b[0;34m)\u001b[0m\u001b[0;34m\u001b[0m\u001b[0;34m\u001b[0m\u001b[0m\n\u001b[1;32m      6\u001b[0m     \u001b[0mplt\u001b[0m\u001b[0;34m.\u001b[0m\u001b[0mgrid\u001b[0m\u001b[0;34m(\u001b[0m\u001b[0;32mTrue\u001b[0m\u001b[0;34m)\u001b[0m\u001b[0;34m\u001b[0m\u001b[0;34m\u001b[0m\u001b[0m\n\u001b[0;32m----> 7\u001b[0;31m     \u001b[0mplt\u001b[0m\u001b[0;34m.\u001b[0m\u001b[0mshow\u001b[0m\u001b[0;34m(\u001b[0m\u001b[0;34m)\u001b[0m\u001b[0;34m\u001b[0m\u001b[0;34m\u001b[0m\u001b[0m\n\u001b[0m\u001b[1;32m      8\u001b[0m \u001b[0;34m\u001b[0m\u001b[0m\n\u001b[1;32m      9\u001b[0m \u001b[0mgroup\u001b[0m \u001b[0;34m=\u001b[0m \u001b[0mtest_set\u001b[0m\u001b[0;34m.\u001b[0m\u001b[0mgroupby\u001b[0m\u001b[0;34m(\u001b[0m\u001b[0;34m[\u001b[0m\u001b[0;34m'make_id'\u001b[0m\u001b[0;34m,\u001b[0m\u001b[0;34m'model_id'\u001b[0m\u001b[0;34m,\u001b[0m\u001b[0;34m'submodel_id'\u001b[0m\u001b[0;34m]\u001b[0m\u001b[0;34m)\u001b[0m\u001b[0;34m\u001b[0m\u001b[0;34m\u001b[0m\u001b[0m\n",
            "\u001b[0;32m/usr/local/lib/python3.7/dist-packages/matplotlib/pyplot.py\u001b[0m in \u001b[0;36mshow\u001b[0;34m(*args, **kw)\u001b[0m\n\u001b[1;32m    270\u001b[0m     \"\"\"\n\u001b[1;32m    271\u001b[0m     \u001b[0;32mglobal\u001b[0m \u001b[0m_show\u001b[0m\u001b[0;34m\u001b[0m\u001b[0;34m\u001b[0m\u001b[0m\n\u001b[0;32m--> 272\u001b[0;31m     \u001b[0;32mreturn\u001b[0m \u001b[0m_show\u001b[0m\u001b[0;34m(\u001b[0m\u001b[0;34m*\u001b[0m\u001b[0margs\u001b[0m\u001b[0;34m,\u001b[0m \u001b[0;34m**\u001b[0m\u001b[0mkw\u001b[0m\u001b[0;34m)\u001b[0m\u001b[0;34m\u001b[0m\u001b[0;34m\u001b[0m\u001b[0m\n\u001b[0m\u001b[1;32m    273\u001b[0m \u001b[0;34m\u001b[0m\u001b[0m\n\u001b[1;32m    274\u001b[0m \u001b[0;34m\u001b[0m\u001b[0m\n",
            "\u001b[0;32m/usr/local/lib/python3.7/dist-packages/ipykernel/pylab/backend_inline.py\u001b[0m in \u001b[0;36mshow\u001b[0;34m(close, block)\u001b[0m\n\u001b[1;32m     37\u001b[0m             display(\n\u001b[1;32m     38\u001b[0m                 \u001b[0mfigure_manager\u001b[0m\u001b[0;34m.\u001b[0m\u001b[0mcanvas\u001b[0m\u001b[0;34m.\u001b[0m\u001b[0mfigure\u001b[0m\u001b[0;34m,\u001b[0m\u001b[0;34m\u001b[0m\u001b[0;34m\u001b[0m\u001b[0m\n\u001b[0;32m---> 39\u001b[0;31m                 \u001b[0mmetadata\u001b[0m\u001b[0;34m=\u001b[0m\u001b[0m_fetch_figure_metadata\u001b[0m\u001b[0;34m(\u001b[0m\u001b[0mfigure_manager\u001b[0m\u001b[0;34m.\u001b[0m\u001b[0mcanvas\u001b[0m\u001b[0;34m.\u001b[0m\u001b[0mfigure\u001b[0m\u001b[0;34m)\u001b[0m\u001b[0;34m\u001b[0m\u001b[0;34m\u001b[0m\u001b[0m\n\u001b[0m\u001b[1;32m     40\u001b[0m             )\n\u001b[1;32m     41\u001b[0m     \u001b[0;32mfinally\u001b[0m\u001b[0;34m:\u001b[0m\u001b[0;34m\u001b[0m\u001b[0;34m\u001b[0m\u001b[0m\n",
            "\u001b[0;32m/usr/local/lib/python3.7/dist-packages/IPython/core/display.py\u001b[0m in \u001b[0;36mdisplay\u001b[0;34m(*objs, **kwargs)\u001b[0m\n\u001b[1;32m    304\u001b[0m             \u001b[0mpublish_display_data\u001b[0m\u001b[0;34m(\u001b[0m\u001b[0mdata\u001b[0m\u001b[0;34m=\u001b[0m\u001b[0mobj\u001b[0m\u001b[0;34m,\u001b[0m \u001b[0mmetadata\u001b[0m\u001b[0;34m=\u001b[0m\u001b[0mmetadata\u001b[0m\u001b[0;34m,\u001b[0m \u001b[0;34m**\u001b[0m\u001b[0mkwargs\u001b[0m\u001b[0;34m)\u001b[0m\u001b[0;34m\u001b[0m\u001b[0;34m\u001b[0m\u001b[0m\n\u001b[1;32m    305\u001b[0m         \u001b[0;32melse\u001b[0m\u001b[0;34m:\u001b[0m\u001b[0;34m\u001b[0m\u001b[0;34m\u001b[0m\u001b[0m\n\u001b[0;32m--> 306\u001b[0;31m             \u001b[0mformat_dict\u001b[0m\u001b[0;34m,\u001b[0m \u001b[0mmd_dict\u001b[0m \u001b[0;34m=\u001b[0m \u001b[0mformat\u001b[0m\u001b[0;34m(\u001b[0m\u001b[0mobj\u001b[0m\u001b[0;34m,\u001b[0m \u001b[0minclude\u001b[0m\u001b[0;34m=\u001b[0m\u001b[0minclude\u001b[0m\u001b[0;34m,\u001b[0m \u001b[0mexclude\u001b[0m\u001b[0;34m=\u001b[0m\u001b[0mexclude\u001b[0m\u001b[0;34m)\u001b[0m\u001b[0;34m\u001b[0m\u001b[0;34m\u001b[0m\u001b[0m\n\u001b[0m\u001b[1;32m    307\u001b[0m             \u001b[0;32mif\u001b[0m \u001b[0;32mnot\u001b[0m \u001b[0mformat_dict\u001b[0m\u001b[0;34m:\u001b[0m\u001b[0;34m\u001b[0m\u001b[0;34m\u001b[0m\u001b[0m\n\u001b[1;32m    308\u001b[0m                 \u001b[0;31m# nothing to display (e.g. _ipython_display_ took over)\u001b[0m\u001b[0;34m\u001b[0m\u001b[0;34m\u001b[0m\u001b[0;34m\u001b[0m\u001b[0m\n",
            "\u001b[0;32m/usr/local/lib/python3.7/dist-packages/IPython/core/formatters.py\u001b[0m in \u001b[0;36mformat\u001b[0;34m(self, obj, include, exclude)\u001b[0m\n\u001b[1;32m    171\u001b[0m             \u001b[0mmd\u001b[0m \u001b[0;34m=\u001b[0m \u001b[0;32mNone\u001b[0m\u001b[0;34m\u001b[0m\u001b[0;34m\u001b[0m\u001b[0m\n\u001b[1;32m    172\u001b[0m             \u001b[0;32mtry\u001b[0m\u001b[0;34m:\u001b[0m\u001b[0;34m\u001b[0m\u001b[0;34m\u001b[0m\u001b[0m\n\u001b[0;32m--> 173\u001b[0;31m                 \u001b[0mdata\u001b[0m \u001b[0;34m=\u001b[0m \u001b[0mformatter\u001b[0m\u001b[0;34m(\u001b[0m\u001b[0mobj\u001b[0m\u001b[0;34m)\u001b[0m\u001b[0;34m\u001b[0m\u001b[0;34m\u001b[0m\u001b[0m\n\u001b[0m\u001b[1;32m    174\u001b[0m             \u001b[0;32mexcept\u001b[0m\u001b[0;34m:\u001b[0m\u001b[0;34m\u001b[0m\u001b[0;34m\u001b[0m\u001b[0m\n\u001b[1;32m    175\u001b[0m                 \u001b[0;31m# FIXME: log the exception\u001b[0m\u001b[0;34m\u001b[0m\u001b[0;34m\u001b[0m\u001b[0;34m\u001b[0m\u001b[0m\n",
            "\u001b[0;32m<decorator-gen-2>\u001b[0m in \u001b[0;36m__call__\u001b[0;34m(self, obj)\u001b[0m\n",
            "\u001b[0;32m/usr/local/lib/python3.7/dist-packages/IPython/core/formatters.py\u001b[0m in \u001b[0;36mcatch_format_error\u001b[0;34m(method, self, *args, **kwargs)\u001b[0m\n\u001b[1;32m    215\u001b[0m     \u001b[0;34m\"\"\"show traceback on failed format call\"\"\"\u001b[0m\u001b[0;34m\u001b[0m\u001b[0;34m\u001b[0m\u001b[0m\n\u001b[1;32m    216\u001b[0m     \u001b[0;32mtry\u001b[0m\u001b[0;34m:\u001b[0m\u001b[0;34m\u001b[0m\u001b[0;34m\u001b[0m\u001b[0m\n\u001b[0;32m--> 217\u001b[0;31m         \u001b[0mr\u001b[0m \u001b[0;34m=\u001b[0m \u001b[0mmethod\u001b[0m\u001b[0;34m(\u001b[0m\u001b[0mself\u001b[0m\u001b[0;34m,\u001b[0m \u001b[0;34m*\u001b[0m\u001b[0margs\u001b[0m\u001b[0;34m,\u001b[0m \u001b[0;34m**\u001b[0m\u001b[0mkwargs\u001b[0m\u001b[0;34m)\u001b[0m\u001b[0;34m\u001b[0m\u001b[0;34m\u001b[0m\u001b[0m\n\u001b[0m\u001b[1;32m    218\u001b[0m     \u001b[0;32mexcept\u001b[0m \u001b[0mNotImplementedError\u001b[0m\u001b[0;34m:\u001b[0m\u001b[0;34m\u001b[0m\u001b[0;34m\u001b[0m\u001b[0m\n\u001b[1;32m    219\u001b[0m         \u001b[0;31m# don't warn on NotImplementedErrors\u001b[0m\u001b[0;34m\u001b[0m\u001b[0;34m\u001b[0m\u001b[0;34m\u001b[0m\u001b[0m\n",
            "\u001b[0;32m/usr/local/lib/python3.7/dist-packages/IPython/core/formatters.py\u001b[0m in \u001b[0;36m__call__\u001b[0;34m(self, obj)\u001b[0m\n\u001b[1;32m    332\u001b[0m                 \u001b[0;32mpass\u001b[0m\u001b[0;34m\u001b[0m\u001b[0;34m\u001b[0m\u001b[0m\n\u001b[1;32m    333\u001b[0m             \u001b[0;32melse\u001b[0m\u001b[0;34m:\u001b[0m\u001b[0;34m\u001b[0m\u001b[0;34m\u001b[0m\u001b[0m\n\u001b[0;32m--> 334\u001b[0;31m                 \u001b[0;32mreturn\u001b[0m \u001b[0mprinter\u001b[0m\u001b[0;34m(\u001b[0m\u001b[0mobj\u001b[0m\u001b[0;34m)\u001b[0m\u001b[0;34m\u001b[0m\u001b[0;34m\u001b[0m\u001b[0m\n\u001b[0m\u001b[1;32m    335\u001b[0m             \u001b[0;31m# Finally look for special method names\u001b[0m\u001b[0;34m\u001b[0m\u001b[0;34m\u001b[0m\u001b[0;34m\u001b[0m\u001b[0m\n\u001b[1;32m    336\u001b[0m             \u001b[0mmethod\u001b[0m \u001b[0;34m=\u001b[0m \u001b[0mget_real_method\u001b[0m\u001b[0;34m(\u001b[0m\u001b[0mobj\u001b[0m\u001b[0;34m,\u001b[0m \u001b[0mself\u001b[0m\u001b[0;34m.\u001b[0m\u001b[0mprint_method\u001b[0m\u001b[0;34m)\u001b[0m\u001b[0;34m\u001b[0m\u001b[0;34m\u001b[0m\u001b[0m\n",
            "\u001b[0;32m/usr/local/lib/python3.7/dist-packages/IPython/core/pylabtools.py\u001b[0m in \u001b[0;36m<lambda>\u001b[0;34m(fig)\u001b[0m\n\u001b[1;32m    239\u001b[0m \u001b[0;34m\u001b[0m\u001b[0m\n\u001b[1;32m    240\u001b[0m     \u001b[0;32mif\u001b[0m \u001b[0;34m'png'\u001b[0m \u001b[0;32min\u001b[0m \u001b[0mformats\u001b[0m\u001b[0;34m:\u001b[0m\u001b[0;34m\u001b[0m\u001b[0;34m\u001b[0m\u001b[0m\n\u001b[0;32m--> 241\u001b[0;31m         \u001b[0mpng_formatter\u001b[0m\u001b[0;34m.\u001b[0m\u001b[0mfor_type\u001b[0m\u001b[0;34m(\u001b[0m\u001b[0mFigure\u001b[0m\u001b[0;34m,\u001b[0m \u001b[0;32mlambda\u001b[0m \u001b[0mfig\u001b[0m\u001b[0;34m:\u001b[0m \u001b[0mprint_figure\u001b[0m\u001b[0;34m(\u001b[0m\u001b[0mfig\u001b[0m\u001b[0;34m,\u001b[0m \u001b[0;34m'png'\u001b[0m\u001b[0;34m,\u001b[0m \u001b[0;34m**\u001b[0m\u001b[0mkwargs\u001b[0m\u001b[0;34m)\u001b[0m\u001b[0;34m)\u001b[0m\u001b[0;34m\u001b[0m\u001b[0;34m\u001b[0m\u001b[0m\n\u001b[0m\u001b[1;32m    242\u001b[0m     \u001b[0;32mif\u001b[0m \u001b[0;34m'retina'\u001b[0m \u001b[0;32min\u001b[0m \u001b[0mformats\u001b[0m \u001b[0;32mor\u001b[0m \u001b[0;34m'png2x'\u001b[0m \u001b[0;32min\u001b[0m \u001b[0mformats\u001b[0m\u001b[0;34m:\u001b[0m\u001b[0;34m\u001b[0m\u001b[0;34m\u001b[0m\u001b[0m\n\u001b[1;32m    243\u001b[0m         \u001b[0mpng_formatter\u001b[0m\u001b[0;34m.\u001b[0m\u001b[0mfor_type\u001b[0m\u001b[0;34m(\u001b[0m\u001b[0mFigure\u001b[0m\u001b[0;34m,\u001b[0m \u001b[0;32mlambda\u001b[0m \u001b[0mfig\u001b[0m\u001b[0;34m:\u001b[0m \u001b[0mretina_figure\u001b[0m\u001b[0;34m(\u001b[0m\u001b[0mfig\u001b[0m\u001b[0;34m,\u001b[0m \u001b[0;34m**\u001b[0m\u001b[0mkwargs\u001b[0m\u001b[0;34m)\u001b[0m\u001b[0;34m)\u001b[0m\u001b[0;34m\u001b[0m\u001b[0;34m\u001b[0m\u001b[0m\n",
            "\u001b[0;32m/usr/local/lib/python3.7/dist-packages/IPython/core/pylabtools.py\u001b[0m in \u001b[0;36mprint_figure\u001b[0;34m(fig, fmt, bbox_inches, **kwargs)\u001b[0m\n\u001b[1;32m    123\u001b[0m \u001b[0;34m\u001b[0m\u001b[0m\n\u001b[1;32m    124\u001b[0m     \u001b[0mbytes_io\u001b[0m \u001b[0;34m=\u001b[0m \u001b[0mBytesIO\u001b[0m\u001b[0;34m(\u001b[0m\u001b[0;34m)\u001b[0m\u001b[0;34m\u001b[0m\u001b[0;34m\u001b[0m\u001b[0m\n\u001b[0;32m--> 125\u001b[0;31m     \u001b[0mfig\u001b[0m\u001b[0;34m.\u001b[0m\u001b[0mcanvas\u001b[0m\u001b[0;34m.\u001b[0m\u001b[0mprint_figure\u001b[0m\u001b[0;34m(\u001b[0m\u001b[0mbytes_io\u001b[0m\u001b[0;34m,\u001b[0m \u001b[0;34m**\u001b[0m\u001b[0mkw\u001b[0m\u001b[0;34m)\u001b[0m\u001b[0;34m\u001b[0m\u001b[0;34m\u001b[0m\u001b[0m\n\u001b[0m\u001b[1;32m    126\u001b[0m     \u001b[0mdata\u001b[0m \u001b[0;34m=\u001b[0m \u001b[0mbytes_io\u001b[0m\u001b[0;34m.\u001b[0m\u001b[0mgetvalue\u001b[0m\u001b[0;34m(\u001b[0m\u001b[0;34m)\u001b[0m\u001b[0;34m\u001b[0m\u001b[0;34m\u001b[0m\u001b[0m\n\u001b[1;32m    127\u001b[0m     \u001b[0;32mif\u001b[0m \u001b[0mfmt\u001b[0m \u001b[0;34m==\u001b[0m \u001b[0;34m'svg'\u001b[0m\u001b[0;34m:\u001b[0m\u001b[0;34m\u001b[0m\u001b[0;34m\u001b[0m\u001b[0m\n",
            "\u001b[0;32m/usr/local/lib/python3.7/dist-packages/matplotlib/backend_bases.py\u001b[0m in \u001b[0;36mprint_figure\u001b[0;34m(self, filename, dpi, facecolor, edgecolor, orientation, format, bbox_inches, **kwargs)\u001b[0m\n\u001b[1;32m   2098\u001b[0m                            else suppress())\n\u001b[1;32m   2099\u001b[0m                     \u001b[0;32mwith\u001b[0m \u001b[0mctx\u001b[0m\u001b[0;34m:\u001b[0m\u001b[0;34m\u001b[0m\u001b[0;34m\u001b[0m\u001b[0m\n\u001b[0;32m-> 2100\u001b[0;31m                         \u001b[0mself\u001b[0m\u001b[0;34m.\u001b[0m\u001b[0mfigure\u001b[0m\u001b[0;34m.\u001b[0m\u001b[0mdraw\u001b[0m\u001b[0;34m(\u001b[0m\u001b[0mrenderer\u001b[0m\u001b[0;34m)\u001b[0m\u001b[0;34m\u001b[0m\u001b[0;34m\u001b[0m\u001b[0m\n\u001b[0m\u001b[1;32m   2101\u001b[0m                     \u001b[0mbbox_artists\u001b[0m \u001b[0;34m=\u001b[0m \u001b[0mkwargs\u001b[0m\u001b[0;34m.\u001b[0m\u001b[0mpop\u001b[0m\u001b[0;34m(\u001b[0m\u001b[0;34m\"bbox_extra_artists\"\u001b[0m\u001b[0;34m,\u001b[0m \u001b[0;32mNone\u001b[0m\u001b[0;34m)\u001b[0m\u001b[0;34m\u001b[0m\u001b[0;34m\u001b[0m\u001b[0m\n\u001b[1;32m   2102\u001b[0m                     bbox_inches = self.figure.get_tightbbox(renderer,\n",
            "\u001b[0;32m/usr/local/lib/python3.7/dist-packages/matplotlib/artist.py\u001b[0m in \u001b[0;36mdraw_wrapper\u001b[0;34m(artist, renderer, *args, **kwargs)\u001b[0m\n\u001b[1;32m     36\u001b[0m                 \u001b[0mrenderer\u001b[0m\u001b[0;34m.\u001b[0m\u001b[0mstart_filter\u001b[0m\u001b[0;34m(\u001b[0m\u001b[0;34m)\u001b[0m\u001b[0;34m\u001b[0m\u001b[0;34m\u001b[0m\u001b[0m\n\u001b[1;32m     37\u001b[0m \u001b[0;34m\u001b[0m\u001b[0m\n\u001b[0;32m---> 38\u001b[0;31m             \u001b[0;32mreturn\u001b[0m \u001b[0mdraw\u001b[0m\u001b[0;34m(\u001b[0m\u001b[0martist\u001b[0m\u001b[0;34m,\u001b[0m \u001b[0mrenderer\u001b[0m\u001b[0;34m,\u001b[0m \u001b[0;34m*\u001b[0m\u001b[0margs\u001b[0m\u001b[0;34m,\u001b[0m \u001b[0;34m**\u001b[0m\u001b[0mkwargs\u001b[0m\u001b[0;34m)\u001b[0m\u001b[0;34m\u001b[0m\u001b[0;34m\u001b[0m\u001b[0m\n\u001b[0m\u001b[1;32m     39\u001b[0m         \u001b[0;32mfinally\u001b[0m\u001b[0;34m:\u001b[0m\u001b[0;34m\u001b[0m\u001b[0;34m\u001b[0m\u001b[0m\n\u001b[1;32m     40\u001b[0m             \u001b[0;32mif\u001b[0m \u001b[0martist\u001b[0m\u001b[0;34m.\u001b[0m\u001b[0mget_agg_filter\u001b[0m\u001b[0;34m(\u001b[0m\u001b[0;34m)\u001b[0m \u001b[0;32mis\u001b[0m \u001b[0;32mnot\u001b[0m \u001b[0;32mNone\u001b[0m\u001b[0;34m:\u001b[0m\u001b[0;34m\u001b[0m\u001b[0;34m\u001b[0m\u001b[0m\n",
            "\u001b[0;32m/usr/local/lib/python3.7/dist-packages/matplotlib/figure.py\u001b[0m in \u001b[0;36mdraw\u001b[0;34m(self, renderer)\u001b[0m\n\u001b[1;32m   1734\u001b[0m             \u001b[0mself\u001b[0m\u001b[0;34m.\u001b[0m\u001b[0mpatch\u001b[0m\u001b[0;34m.\u001b[0m\u001b[0mdraw\u001b[0m\u001b[0;34m(\u001b[0m\u001b[0mrenderer\u001b[0m\u001b[0;34m)\u001b[0m\u001b[0;34m\u001b[0m\u001b[0;34m\u001b[0m\u001b[0m\n\u001b[1;32m   1735\u001b[0m             mimage._draw_list_compositing_images(\n\u001b[0;32m-> 1736\u001b[0;31m                 renderer, self, artists, self.suppressComposite)\n\u001b[0m\u001b[1;32m   1737\u001b[0m \u001b[0;34m\u001b[0m\u001b[0m\n\u001b[1;32m   1738\u001b[0m             \u001b[0mrenderer\u001b[0m\u001b[0;34m.\u001b[0m\u001b[0mclose_group\u001b[0m\u001b[0;34m(\u001b[0m\u001b[0;34m'figure'\u001b[0m\u001b[0;34m)\u001b[0m\u001b[0;34m\u001b[0m\u001b[0;34m\u001b[0m\u001b[0m\n",
            "\u001b[0;32m/usr/local/lib/python3.7/dist-packages/matplotlib/image.py\u001b[0m in \u001b[0;36m_draw_list_compositing_images\u001b[0;34m(renderer, parent, artists, suppress_composite)\u001b[0m\n\u001b[1;32m    135\u001b[0m     \u001b[0;32mif\u001b[0m \u001b[0mnot_composite\u001b[0m \u001b[0;32mor\u001b[0m \u001b[0;32mnot\u001b[0m \u001b[0mhas_images\u001b[0m\u001b[0;34m:\u001b[0m\u001b[0;34m\u001b[0m\u001b[0;34m\u001b[0m\u001b[0m\n\u001b[1;32m    136\u001b[0m         \u001b[0;32mfor\u001b[0m \u001b[0ma\u001b[0m \u001b[0;32min\u001b[0m \u001b[0martists\u001b[0m\u001b[0;34m:\u001b[0m\u001b[0;34m\u001b[0m\u001b[0;34m\u001b[0m\u001b[0m\n\u001b[0;32m--> 137\u001b[0;31m             \u001b[0ma\u001b[0m\u001b[0;34m.\u001b[0m\u001b[0mdraw\u001b[0m\u001b[0;34m(\u001b[0m\u001b[0mrenderer\u001b[0m\u001b[0;34m)\u001b[0m\u001b[0;34m\u001b[0m\u001b[0;34m\u001b[0m\u001b[0m\n\u001b[0m\u001b[1;32m    138\u001b[0m     \u001b[0;32melse\u001b[0m\u001b[0;34m:\u001b[0m\u001b[0;34m\u001b[0m\u001b[0;34m\u001b[0m\u001b[0m\n\u001b[1;32m    139\u001b[0m         \u001b[0;31m# Composite any adjacent images together\u001b[0m\u001b[0;34m\u001b[0m\u001b[0;34m\u001b[0m\u001b[0;34m\u001b[0m\u001b[0m\n",
            "\u001b[0;32m/usr/local/lib/python3.7/dist-packages/matplotlib/artist.py\u001b[0m in \u001b[0;36mdraw_wrapper\u001b[0;34m(artist, renderer, *args, **kwargs)\u001b[0m\n\u001b[1;32m     36\u001b[0m                 \u001b[0mrenderer\u001b[0m\u001b[0;34m.\u001b[0m\u001b[0mstart_filter\u001b[0m\u001b[0;34m(\u001b[0m\u001b[0;34m)\u001b[0m\u001b[0;34m\u001b[0m\u001b[0;34m\u001b[0m\u001b[0m\n\u001b[1;32m     37\u001b[0m \u001b[0;34m\u001b[0m\u001b[0m\n\u001b[0;32m---> 38\u001b[0;31m             \u001b[0;32mreturn\u001b[0m \u001b[0mdraw\u001b[0m\u001b[0;34m(\u001b[0m\u001b[0martist\u001b[0m\u001b[0;34m,\u001b[0m \u001b[0mrenderer\u001b[0m\u001b[0;34m,\u001b[0m \u001b[0;34m*\u001b[0m\u001b[0margs\u001b[0m\u001b[0;34m,\u001b[0m \u001b[0;34m**\u001b[0m\u001b[0mkwargs\u001b[0m\u001b[0;34m)\u001b[0m\u001b[0;34m\u001b[0m\u001b[0;34m\u001b[0m\u001b[0m\n\u001b[0m\u001b[1;32m     39\u001b[0m         \u001b[0;32mfinally\u001b[0m\u001b[0;34m:\u001b[0m\u001b[0;34m\u001b[0m\u001b[0;34m\u001b[0m\u001b[0m\n\u001b[1;32m     40\u001b[0m             \u001b[0;32mif\u001b[0m \u001b[0martist\u001b[0m\u001b[0;34m.\u001b[0m\u001b[0mget_agg_filter\u001b[0m\u001b[0;34m(\u001b[0m\u001b[0;34m)\u001b[0m \u001b[0;32mis\u001b[0m \u001b[0;32mnot\u001b[0m \u001b[0;32mNone\u001b[0m\u001b[0;34m:\u001b[0m\u001b[0;34m\u001b[0m\u001b[0;34m\u001b[0m\u001b[0m\n",
            "\u001b[0;32m/usr/local/lib/python3.7/dist-packages/matplotlib/axes/_base.py\u001b[0m in \u001b[0;36mdraw\u001b[0;34m(self, renderer, inframe)\u001b[0m\n\u001b[1;32m   2628\u001b[0m             \u001b[0mrenderer\u001b[0m\u001b[0;34m.\u001b[0m\u001b[0mstop_rasterizing\u001b[0m\u001b[0;34m(\u001b[0m\u001b[0;34m)\u001b[0m\u001b[0;34m\u001b[0m\u001b[0;34m\u001b[0m\u001b[0m\n\u001b[1;32m   2629\u001b[0m \u001b[0;34m\u001b[0m\u001b[0m\n\u001b[0;32m-> 2630\u001b[0;31m         \u001b[0mmimage\u001b[0m\u001b[0;34m.\u001b[0m\u001b[0m_draw_list_compositing_images\u001b[0m\u001b[0;34m(\u001b[0m\u001b[0mrenderer\u001b[0m\u001b[0;34m,\u001b[0m \u001b[0mself\u001b[0m\u001b[0;34m,\u001b[0m \u001b[0martists\u001b[0m\u001b[0;34m)\u001b[0m\u001b[0;34m\u001b[0m\u001b[0;34m\u001b[0m\u001b[0m\n\u001b[0m\u001b[1;32m   2631\u001b[0m \u001b[0;34m\u001b[0m\u001b[0m\n\u001b[1;32m   2632\u001b[0m         \u001b[0mrenderer\u001b[0m\u001b[0;34m.\u001b[0m\u001b[0mclose_group\u001b[0m\u001b[0;34m(\u001b[0m\u001b[0;34m'axes'\u001b[0m\u001b[0;34m)\u001b[0m\u001b[0;34m\u001b[0m\u001b[0;34m\u001b[0m\u001b[0m\n",
            "\u001b[0;32m/usr/local/lib/python3.7/dist-packages/matplotlib/image.py\u001b[0m in \u001b[0;36m_draw_list_compositing_images\u001b[0;34m(renderer, parent, artists, suppress_composite)\u001b[0m\n\u001b[1;32m    135\u001b[0m     \u001b[0;32mif\u001b[0m \u001b[0mnot_composite\u001b[0m \u001b[0;32mor\u001b[0m \u001b[0;32mnot\u001b[0m \u001b[0mhas_images\u001b[0m\u001b[0;34m:\u001b[0m\u001b[0;34m\u001b[0m\u001b[0;34m\u001b[0m\u001b[0m\n\u001b[1;32m    136\u001b[0m         \u001b[0;32mfor\u001b[0m \u001b[0ma\u001b[0m \u001b[0;32min\u001b[0m \u001b[0martists\u001b[0m\u001b[0;34m:\u001b[0m\u001b[0;34m\u001b[0m\u001b[0;34m\u001b[0m\u001b[0m\n\u001b[0;32m--> 137\u001b[0;31m             \u001b[0ma\u001b[0m\u001b[0;34m.\u001b[0m\u001b[0mdraw\u001b[0m\u001b[0;34m(\u001b[0m\u001b[0mrenderer\u001b[0m\u001b[0;34m)\u001b[0m\u001b[0;34m\u001b[0m\u001b[0;34m\u001b[0m\u001b[0m\n\u001b[0m\u001b[1;32m    138\u001b[0m     \u001b[0;32melse\u001b[0m\u001b[0;34m:\u001b[0m\u001b[0;34m\u001b[0m\u001b[0;34m\u001b[0m\u001b[0m\n\u001b[1;32m    139\u001b[0m         \u001b[0;31m# Composite any adjacent images together\u001b[0m\u001b[0;34m\u001b[0m\u001b[0;34m\u001b[0m\u001b[0;34m\u001b[0m\u001b[0m\n",
            "\u001b[0;32m/usr/local/lib/python3.7/dist-packages/matplotlib/artist.py\u001b[0m in \u001b[0;36mdraw_wrapper\u001b[0;34m(artist, renderer, *args, **kwargs)\u001b[0m\n\u001b[1;32m     36\u001b[0m                 \u001b[0mrenderer\u001b[0m\u001b[0;34m.\u001b[0m\u001b[0mstart_filter\u001b[0m\u001b[0;34m(\u001b[0m\u001b[0;34m)\u001b[0m\u001b[0;34m\u001b[0m\u001b[0;34m\u001b[0m\u001b[0m\n\u001b[1;32m     37\u001b[0m \u001b[0;34m\u001b[0m\u001b[0m\n\u001b[0;32m---> 38\u001b[0;31m             \u001b[0;32mreturn\u001b[0m \u001b[0mdraw\u001b[0m\u001b[0;34m(\u001b[0m\u001b[0martist\u001b[0m\u001b[0;34m,\u001b[0m \u001b[0mrenderer\u001b[0m\u001b[0;34m,\u001b[0m \u001b[0;34m*\u001b[0m\u001b[0margs\u001b[0m\u001b[0;34m,\u001b[0m \u001b[0;34m**\u001b[0m\u001b[0mkwargs\u001b[0m\u001b[0;34m)\u001b[0m\u001b[0;34m\u001b[0m\u001b[0;34m\u001b[0m\u001b[0m\n\u001b[0m\u001b[1;32m     39\u001b[0m         \u001b[0;32mfinally\u001b[0m\u001b[0;34m:\u001b[0m\u001b[0;34m\u001b[0m\u001b[0;34m\u001b[0m\u001b[0m\n\u001b[1;32m     40\u001b[0m             \u001b[0;32mif\u001b[0m \u001b[0martist\u001b[0m\u001b[0;34m.\u001b[0m\u001b[0mget_agg_filter\u001b[0m\u001b[0;34m(\u001b[0m\u001b[0;34m)\u001b[0m \u001b[0;32mis\u001b[0m \u001b[0;32mnot\u001b[0m \u001b[0;32mNone\u001b[0m\u001b[0;34m:\u001b[0m\u001b[0;34m\u001b[0m\u001b[0;34m\u001b[0m\u001b[0m\n",
            "\u001b[0;32m/usr/local/lib/python3.7/dist-packages/matplotlib/axis.py\u001b[0m in \u001b[0;36mdraw\u001b[0;34m(self, renderer, *args, **kwargs)\u001b[0m\n\u001b[1;32m   1227\u001b[0m         \u001b[0mticks_to_draw\u001b[0m \u001b[0;34m=\u001b[0m \u001b[0mself\u001b[0m\u001b[0;34m.\u001b[0m\u001b[0m_update_ticks\u001b[0m\u001b[0;34m(\u001b[0m\u001b[0;34m)\u001b[0m\u001b[0;34m\u001b[0m\u001b[0;34m\u001b[0m\u001b[0m\n\u001b[1;32m   1228\u001b[0m         ticklabelBoxes, ticklabelBoxes2 = self._get_tick_bboxes(ticks_to_draw,\n\u001b[0;32m-> 1229\u001b[0;31m                                                                 renderer)\n\u001b[0m\u001b[1;32m   1230\u001b[0m \u001b[0;34m\u001b[0m\u001b[0m\n\u001b[1;32m   1231\u001b[0m         \u001b[0;32mfor\u001b[0m \u001b[0mtick\u001b[0m \u001b[0;32min\u001b[0m \u001b[0mticks_to_draw\u001b[0m\u001b[0;34m:\u001b[0m\u001b[0;34m\u001b[0m\u001b[0;34m\u001b[0m\u001b[0m\n",
            "\u001b[0;32m/usr/local/lib/python3.7/dist-packages/matplotlib/axis.py\u001b[0m in \u001b[0;36m_get_tick_bboxes\u001b[0;34m(self, ticks, renderer)\u001b[0m\n\u001b[1;32m   1172\u001b[0m         \u001b[0;34m\"\"\"Return lists of bboxes for ticks' label1's and label2's.\"\"\"\u001b[0m\u001b[0;34m\u001b[0m\u001b[0;34m\u001b[0m\u001b[0m\n\u001b[1;32m   1173\u001b[0m         return ([tick.label1.get_window_extent(renderer)\n\u001b[0;32m-> 1174\u001b[0;31m                  for tick in ticks if tick.label1.get_visible()],\n\u001b[0m\u001b[1;32m   1175\u001b[0m                 [tick.label2.get_window_extent(renderer)\n\u001b[1;32m   1176\u001b[0m                  for tick in ticks if tick.label2.get_visible()])\n",
            "\u001b[0;32m/usr/local/lib/python3.7/dist-packages/matplotlib/axis.py\u001b[0m in \u001b[0;36m<listcomp>\u001b[0;34m(.0)\u001b[0m\n\u001b[1;32m   1172\u001b[0m         \u001b[0;34m\"\"\"Return lists of bboxes for ticks' label1's and label2's.\"\"\"\u001b[0m\u001b[0;34m\u001b[0m\u001b[0;34m\u001b[0m\u001b[0m\n\u001b[1;32m   1173\u001b[0m         return ([tick.label1.get_window_extent(renderer)\n\u001b[0;32m-> 1174\u001b[0;31m                  for tick in ticks if tick.label1.get_visible()],\n\u001b[0m\u001b[1;32m   1175\u001b[0m                 [tick.label2.get_window_extent(renderer)\n\u001b[1;32m   1176\u001b[0m                  for tick in ticks if tick.label2.get_visible()])\n",
            "\u001b[0;32m/usr/local/lib/python3.7/dist-packages/matplotlib/text.py\u001b[0m in \u001b[0;36mget_window_extent\u001b[0;34m(self, renderer, dpi)\u001b[0m\n\u001b[1;32m    903\u001b[0m             \u001b[0;32mraise\u001b[0m \u001b[0mRuntimeError\u001b[0m\u001b[0;34m(\u001b[0m\u001b[0;34m'Cannot get window extent w/o renderer'\u001b[0m\u001b[0;34m)\u001b[0m\u001b[0;34m\u001b[0m\u001b[0;34m\u001b[0m\u001b[0m\n\u001b[1;32m    904\u001b[0m \u001b[0;34m\u001b[0m\u001b[0m\n\u001b[0;32m--> 905\u001b[0;31m         \u001b[0mbbox\u001b[0m\u001b[0;34m,\u001b[0m \u001b[0minfo\u001b[0m\u001b[0;34m,\u001b[0m \u001b[0mdescent\u001b[0m \u001b[0;34m=\u001b[0m \u001b[0mself\u001b[0m\u001b[0;34m.\u001b[0m\u001b[0m_get_layout\u001b[0m\u001b[0;34m(\u001b[0m\u001b[0mself\u001b[0m\u001b[0;34m.\u001b[0m\u001b[0m_renderer\u001b[0m\u001b[0;34m)\u001b[0m\u001b[0;34m\u001b[0m\u001b[0;34m\u001b[0m\u001b[0m\n\u001b[0m\u001b[1;32m    906\u001b[0m         \u001b[0mx\u001b[0m\u001b[0;34m,\u001b[0m \u001b[0my\u001b[0m \u001b[0;34m=\u001b[0m \u001b[0mself\u001b[0m\u001b[0;34m.\u001b[0m\u001b[0mget_unitless_position\u001b[0m\u001b[0;34m(\u001b[0m\u001b[0;34m)\u001b[0m\u001b[0;34m\u001b[0m\u001b[0;34m\u001b[0m\u001b[0m\n\u001b[1;32m    907\u001b[0m         \u001b[0mx\u001b[0m\u001b[0;34m,\u001b[0m \u001b[0my\u001b[0m \u001b[0;34m=\u001b[0m \u001b[0mself\u001b[0m\u001b[0;34m.\u001b[0m\u001b[0mget_transform\u001b[0m\u001b[0;34m(\u001b[0m\u001b[0;34m)\u001b[0m\u001b[0;34m.\u001b[0m\u001b[0mtransform\u001b[0m\u001b[0;34m(\u001b[0m\u001b[0;34m(\u001b[0m\u001b[0mx\u001b[0m\u001b[0;34m,\u001b[0m \u001b[0my\u001b[0m\u001b[0;34m)\u001b[0m\u001b[0;34m)\u001b[0m\u001b[0;34m\u001b[0m\u001b[0;34m\u001b[0m\u001b[0m\n",
            "\u001b[0;32m/usr/local/lib/python3.7/dist-packages/matplotlib/text.py\u001b[0m in \u001b[0;36m_get_layout\u001b[0;34m(self, renderer)\u001b[0m\n\u001b[1;32m    298\u001b[0m             \u001b[0;32mif\u001b[0m \u001b[0mclean_line\u001b[0m\u001b[0;34m:\u001b[0m\u001b[0;34m\u001b[0m\u001b[0;34m\u001b[0m\u001b[0m\n\u001b[1;32m    299\u001b[0m                 w, h, d = renderer.get_text_width_height_descent(\n\u001b[0;32m--> 300\u001b[0;31m                     clean_line, self._fontproperties, ismath=ismath)\n\u001b[0m\u001b[1;32m    301\u001b[0m             \u001b[0;32melse\u001b[0m\u001b[0;34m:\u001b[0m\u001b[0;34m\u001b[0m\u001b[0;34m\u001b[0m\u001b[0m\n\u001b[1;32m    302\u001b[0m                 \u001b[0mw\u001b[0m \u001b[0;34m=\u001b[0m \u001b[0mh\u001b[0m \u001b[0;34m=\u001b[0m \u001b[0md\u001b[0m \u001b[0;34m=\u001b[0m \u001b[0;36m0\u001b[0m\u001b[0;34m\u001b[0m\u001b[0;34m\u001b[0m\u001b[0m\n",
            "\u001b[0;32m/usr/local/lib/python3.7/dist-packages/matplotlib/backends/backend_agg.py\u001b[0m in \u001b[0;36mget_text_width_height_descent\u001b[0;34m(self, s, prop, ismath)\u001b[0m\n\u001b[1;32m    212\u001b[0m         \u001b[0mflags\u001b[0m \u001b[0;34m=\u001b[0m \u001b[0mget_hinting_flag\u001b[0m\u001b[0;34m(\u001b[0m\u001b[0;34m)\u001b[0m\u001b[0;34m\u001b[0m\u001b[0;34m\u001b[0m\u001b[0m\n\u001b[1;32m    213\u001b[0m         \u001b[0mfont\u001b[0m \u001b[0;34m=\u001b[0m \u001b[0mself\u001b[0m\u001b[0;34m.\u001b[0m\u001b[0m_get_agg_font\u001b[0m\u001b[0;34m(\u001b[0m\u001b[0mprop\u001b[0m\u001b[0;34m)\u001b[0m\u001b[0;34m\u001b[0m\u001b[0;34m\u001b[0m\u001b[0m\n\u001b[0;32m--> 214\u001b[0;31m         \u001b[0mfont\u001b[0m\u001b[0;34m.\u001b[0m\u001b[0mset_text\u001b[0m\u001b[0;34m(\u001b[0m\u001b[0ms\u001b[0m\u001b[0;34m,\u001b[0m \u001b[0;36m0.0\u001b[0m\u001b[0;34m,\u001b[0m \u001b[0mflags\u001b[0m\u001b[0;34m=\u001b[0m\u001b[0mflags\u001b[0m\u001b[0;34m)\u001b[0m\u001b[0;34m\u001b[0m\u001b[0;34m\u001b[0m\u001b[0m\n\u001b[0m\u001b[1;32m    215\u001b[0m         \u001b[0mw\u001b[0m\u001b[0;34m,\u001b[0m \u001b[0mh\u001b[0m \u001b[0;34m=\u001b[0m \u001b[0mfont\u001b[0m\u001b[0;34m.\u001b[0m\u001b[0mget_width_height\u001b[0m\u001b[0;34m(\u001b[0m\u001b[0;34m)\u001b[0m  \u001b[0;31m# width and height of unrotated string\u001b[0m\u001b[0;34m\u001b[0m\u001b[0;34m\u001b[0m\u001b[0m\n\u001b[1;32m    216\u001b[0m         \u001b[0md\u001b[0m \u001b[0;34m=\u001b[0m \u001b[0mfont\u001b[0m\u001b[0;34m.\u001b[0m\u001b[0mget_descent\u001b[0m\u001b[0;34m(\u001b[0m\u001b[0;34m)\u001b[0m\u001b[0;34m\u001b[0m\u001b[0;34m\u001b[0m\u001b[0m\n",
            "\u001b[0;31mKeyboardInterrupt\u001b[0m: "
          ]
        }
      ]
    },
    {
      "cell_type": "markdown",
      "metadata": {
        "id": "JkSTJp3MiOpG"
      },
      "source": [
        "##**Question 4:** How can you enforce monotonicity of year and/or mileage with respect to the price?\n",
        "We enfored monotonicity on Age which translates to year\n"
      ]
    },
    {
      "cell_type": "code",
      "metadata": {
        "id": "WZEppukSaiTg"
      },
      "source": [
        "#splitting data\n",
        "x_train, x_test, y_train, y_test = split_data(final_data, 'price_KWD_scaled')"
      ],
      "execution_count": null,
      "outputs": []
    },
    {
      "cell_type": "code",
      "metadata": {
        "id": "jgdo3Gduh3Fv",
        "colab": {
          "base_uri": "https://localhost:8080/"
        },
        "outputId": "f6736335-59ee-40bd-fed6-9be84c2f509c"
      },
      "source": [
        "x=XGBRegressor(max_depth=15, eta=0.1, subsample=0.7, colsample_bytree=0.8,\n",
        "        n_estimators = 200, min_child_samples = 3, \n",
        "        #colsample_bytree : '0.4',\n",
        "        n_jobs = 3  ,\n",
        "        reg_lambda = 1.5,\n",
        "        num_boost_round = 1000,\n",
        "        early_stopping_rounds = 10,\n",
        "        monotone_constraints = (0,0,0,0,-1,0,0,0,0,0,0),\n",
        "        tree_method = 'hist',\n",
        "        max_bin = 200)\n",
        "\n",
        "model_with_constraints = x.fit(x_train,y_train)\n",
        "model_pred_constrain = model_with_constraints.predict(x_test)\n",
        "MAE_x, MSE_x, RMSE_x = metrics_calcul(model_pred_constrain, y_test)"
      ],
      "execution_count": null,
      "outputs": [
        {
          "output_type": "stream",
          "text": [
            "[09:58:47] WARNING: /workspace/src/objective/regression_obj.cu:152: reg:linear is now deprecated in favor of reg:squarederror.\n",
            "MAE:  0.013999190533091531\n",
            "MSE:  0.0010216501058614488\n",
            "RMSE:  0.03196326181511281\n"
          ],
          "name": "stdout"
        }
      ]
    },
    {
      "cell_type": "code",
      "metadata": {
        "id": "zxPONbpqimlV",
        "colab": {
          "base_uri": "https://localhost:8080/",
          "height": 376
        },
        "outputId": "6e9b7f70-731f-495b-f30a-930248a1dbe0"
      },
      "source": [
        "df_ev = print_res(y_test,model_pred_constrain)\n",
        "df_ev.tail(10)"
      ],
      "execution_count": null,
      "outputs": [
        {
          "output_type": "stream",
          "text": [
            "mean of the difference in the test set 1.398824742957009\n"
          ],
          "name": "stdout"
        },
        {
          "output_type": "execute_result",
          "data": {
            "text/html": [
              "<div>\n",
              "<style scoped>\n",
              "    .dataframe tbody tr th:only-of-type {\n",
              "        vertical-align: middle;\n",
              "    }\n",
              "\n",
              "    .dataframe tbody tr th {\n",
              "        vertical-align: top;\n",
              "    }\n",
              "\n",
              "    .dataframe thead th {\n",
              "        text-align: right;\n",
              "    }\n",
              "</style>\n",
              "<table border=\"1\" class=\"dataframe\">\n",
              "  <thead>\n",
              "    <tr style=\"text-align: right;\">\n",
              "      <th></th>\n",
              "      <th>Predicted Price</th>\n",
              "      <th>Actual Price</th>\n",
              "      <th>Residual</th>\n",
              "      <th>Difference%</th>\n",
              "    </tr>\n",
              "  </thead>\n",
              "  <tbody>\n",
              "    <tr>\n",
              "      <th>180475</th>\n",
              "      <td>1.11</td>\n",
              "      <td>1.11</td>\n",
              "      <td>0.00</td>\n",
              "      <td>0.14</td>\n",
              "    </tr>\n",
              "    <tr>\n",
              "      <th>180476</th>\n",
              "      <td>1.19</td>\n",
              "      <td>1.25</td>\n",
              "      <td>0.06</td>\n",
              "      <td>4.86</td>\n",
              "    </tr>\n",
              "    <tr>\n",
              "      <th>180477</th>\n",
              "      <td>1.17</td>\n",
              "      <td>1.14</td>\n",
              "      <td>-0.03</td>\n",
              "      <td>2.75</td>\n",
              "    </tr>\n",
              "    <tr>\n",
              "      <th>180478</th>\n",
              "      <td>1.11</td>\n",
              "      <td>1.10</td>\n",
              "      <td>-0.00</td>\n",
              "      <td>0.35</td>\n",
              "    </tr>\n",
              "    <tr>\n",
              "      <th>180479</th>\n",
              "      <td>1.02</td>\n",
              "      <td>1.00</td>\n",
              "      <td>-0.02</td>\n",
              "      <td>2.07</td>\n",
              "    </tr>\n",
              "    <tr>\n",
              "      <th>180480</th>\n",
              "      <td>1.12</td>\n",
              "      <td>1.11</td>\n",
              "      <td>-0.00</td>\n",
              "      <td>0.39</td>\n",
              "    </tr>\n",
              "    <tr>\n",
              "      <th>180481</th>\n",
              "      <td>1.10</td>\n",
              "      <td>1.10</td>\n",
              "      <td>-0.01</td>\n",
              "      <td>0.55</td>\n",
              "    </tr>\n",
              "    <tr>\n",
              "      <th>180482</th>\n",
              "      <td>1.42</td>\n",
              "      <td>1.40</td>\n",
              "      <td>-0.02</td>\n",
              "      <td>1.25</td>\n",
              "    </tr>\n",
              "    <tr>\n",
              "      <th>180483</th>\n",
              "      <td>1.08</td>\n",
              "      <td>1.10</td>\n",
              "      <td>0.01</td>\n",
              "      <td>1.31</td>\n",
              "    </tr>\n",
              "    <tr>\n",
              "      <th>180484</th>\n",
              "      <td>1.13</td>\n",
              "      <td>1.12</td>\n",
              "      <td>-0.01</td>\n",
              "      <td>0.72</td>\n",
              "    </tr>\n",
              "  </tbody>\n",
              "</table>\n",
              "</div>"
            ],
            "text/plain": [
              "        Predicted Price  Actual Price  Residual  Difference%\n",
              "180475             1.11          1.11      0.00         0.14\n",
              "180476             1.19          1.25      0.06         4.86\n",
              "180477             1.17          1.14     -0.03         2.75\n",
              "180478             1.11          1.10     -0.00         0.35\n",
              "180479             1.02          1.00     -0.02         2.07\n",
              "180480             1.12          1.11     -0.00         0.39\n",
              "180481             1.10          1.10     -0.01         0.55\n",
              "180482             1.42          1.40     -0.02         1.25\n",
              "180483             1.08          1.10      0.01         1.31\n",
              "180484             1.13          1.12     -0.01         0.72"
            ]
          },
          "metadata": {
            "tags": []
          },
          "execution_count": 44
        }
      ]
    },
    {
      "cell_type": "markdown",
      "metadata": {
        "id": "vjJSGn1fBJoJ"
      },
      "source": [
        "##Question 5: Optional: different model per currency\n"
      ]
    },
    {
      "cell_type": "markdown",
      "metadata": {
        "id": "nUz9sHjIc0Vf"
      },
      "source": [
        "Since we ended up using the same model, it would be better to run and test within a for loop"
      ]
    },
    {
      "cell_type": "code",
      "metadata": {
        "colab": {
          "base_uri": "https://localhost:8080/",
          "height": 1000
        },
        "id": "BdKlD0gSc7ma",
        "outputId": "b9e5e7fd-fcd0-4cc3-de58-a5ea49337310"
      },
      "source": [
        "group = data_currency.groupby(['currency'])\n",
        "for key, item in group:\n",
        "  print(\"---------------------\",key,\"---------------------\")\n",
        "  data = group.get_group(key).drop('currency',axis=1)\n",
        "  x_train, x_test, y_train, y_test = split_data(AED_data,'price_scaled')\n",
        "  pred_xgb_AED, df_ev  = xgboost(x_train, y_train,x_test,y_test) \n",
        "  df_ev.tail(10)"
      ],
      "execution_count": null,
      "outputs": [
        {
          "output_type": "stream",
          "text": [
            "--------------------- AED ---------------------\n",
            "[10:14:26] WARNING: /workspace/src/objective/regression_obj.cu:152: reg:linear is now deprecated in favor of reg:squarederror.\n",
            "rmse for trained:  0.005217927879314971\n",
            "r_squared for trained:  0.5362558302002769\n"
          ],
          "name": "stdout"
        },
        {
          "output_type": "display_data",
          "data": {
            "image/png": "[encoded data removed]",
            "text/plain": [
              "<Figure size 432x288 with 1 Axes>"
            ]
          },
          "metadata": {
            "tags": [],
            "needs_background": "light"
          }
        },
        {
          "output_type": "stream",
          "text": [
            "MAE:  0.001889249369527872\n",
            "MSE:  2.7226771353732437e-05\n",
            "RMSE:  0.005217927879314971\n",
            "mean of the difference in the test set 0.18830511906392847\n",
            "--------------------- KWD ---------------------\n",
            "[10:14:40] WARNING: /workspace/src/objective/regression_obj.cu:152: reg:linear is now deprecated in favor of reg:squarederror.\n",
            "rmse for trained:  0.005217927879314971\n",
            "r_squared for trained:  0.5362558302002769\n"
          ],
          "name": "stdout"
        },
        {
          "output_type": "display_data",
          "data": {
            "image/png": "[encoded data removed]",
            "text/plain": [
              "<Figure size 432x288 with 1 Axes>"
            ]
          },
          "metadata": {
            "tags": [],
            "needs_background": "light"
          }
        },
        {
          "output_type": "stream",
          "text": [
            "MAE:  0.001889249369527872\n",
            "MSE:  2.7226771353732437e-05\n",
            "RMSE:  0.005217927879314971\n",
            "mean of the difference in the test set 0.18830511906392847\n",
            "--------------------- LBP ---------------------\n",
            "[10:14:54] WARNING: /workspace/src/objective/regression_obj.cu:152: reg:linear is now deprecated in favor of reg:squarederror.\n",
            "rmse for trained:  0.005217927879314971\n",
            "r_squared for trained:  0.5362558302002769\n"
          ],
          "name": "stdout"
        },
        {
          "output_type": "display_data",
          "data": {
            "image/png": "[encoded data removed]",
            "text/plain": [
              "<Figure size 432x288 with 1 Axes>"
            ]
          },
          "metadata": {
            "tags": [],
            "needs_background": "light"
          }
        },
        {
          "output_type": "stream",
          "text": [
            "MAE:  0.001889249369527872\n",
            "MSE:  2.7226771353732437e-05\n",
            "RMSE:  0.005217927879314971\n",
            "mean of the difference in the test set 0.18830511906392847\n",
            "--------------------- PKR ---------------------\n",
            "[10:15:08] WARNING: /workspace/src/objective/regression_obj.cu:152: reg:linear is now deprecated in favor of reg:squarederror.\n",
            "rmse for trained:  0.005217927879314971\n",
            "r_squared for trained:  0.5362558302002769\n"
          ],
          "name": "stdout"
        },
        {
          "output_type": "display_data",
          "data": {
            "image/png": "[encoded data removed]",
            "text/plain": [
              "<Figure size 432x288 with 1 Axes>"
            ]
          },
          "metadata": {
            "tags": [],
            "needs_background": "light"
          }
        },
        {
          "output_type": "stream",
          "text": [
            "MAE:  0.001889249369527872\n",
            "MSE:  2.7226771353732437e-05\n",
            "RMSE:  0.005217927879314971\n",
            "mean of the difference in the test set 0.18830511906392847\n",
            "--------------------- SAR ---------------------\n",
            "[10:15:22] WARNING: /workspace/src/objective/regression_obj.cu:152: reg:linear is now deprecated in favor of reg:squarederror.\n",
            "rmse for trained:  0.005217927879314971\n",
            "r_squared for trained:  0.5362558302002769\n"
          ],
          "name": "stdout"
        },
        {
          "output_type": "display_data",
          "data": {
            "image/png": "[encoded data removed]",
            "text/plain": [
              "<Figure size 432x288 with 1 Axes>"
            ]
          },
          "metadata": {
            "tags": [],
            "needs_background": "light"
          }
        },
        {
          "output_type": "stream",
          "text": [
            "MAE:  0.001889249369527872\n",
            "MSE:  2.7226771353732437e-05\n",
            "RMSE:  0.005217927879314971\n",
            "mean of the difference in the test set 0.18830511906392847\n",
            "--------------------- ZAR ---------------------\n",
            "[10:15:36] WARNING: /workspace/src/objective/regression_obj.cu:152: reg:linear is now deprecated in favor of reg:squarederror.\n",
            "rmse for trained:  0.005217927879314971\n",
            "r_squared for trained:  0.5362558302002769\n"
          ],
          "name": "stdout"
        },
        {
          "output_type": "display_data",
          "data": {
            "image/png": "[encoded data removed]",
            "text/plain": [
              "<Figure size 432x288 with 1 Axes>"
            ]
          },
          "metadata": {
            "tags": [],
            "needs_background": "light"
          }
        },
        {
          "output_type": "stream",
          "text": [
            "MAE:  0.001889249369527872\n",
            "MSE:  2.7226771353732437e-05\n",
            "RMSE:  0.005217927879314971\n",
            "mean of the difference in the test set 0.18830511906392847\n"
          ],
          "name": "stdout"
        }
      ]
    },
    {
      "cell_type": "markdown",
      "metadata": {
        "id": "kJNUnIcYdMHf"
      },
      "source": [
        "##All of the below work was for testing different models"
      ]
    },
    {
      "cell_type": "code",
      "metadata": {
        "id": "E_KkHc_n6Sfe"
      },
      "source": [
        "group = data_currency.groupby(['currency'])\n",
        "for key, item in group:\n",
        "  if key == 'AED':\n",
        "    AED_data = group.get_group(key).drop('currency',axis=1)\n",
        "  elif key == 'KWD':\n",
        "    KWD_data = group.get_group(key).drop('currency',axis=1)\n",
        "  elif key == 'LBP':\n",
        "    LBP_data = group.get_group(key).drop('currency',axis=1)\n",
        "  elif key == 'PKR':\n",
        "    PKR_data = group.get_group(key).drop('currency',axis=1)\n",
        "  elif key == 'SAR':\n",
        "    SAR_data = group.get_group(key).drop('currency',axis=1)\n",
        "  elif key == 'ZAR':\n",
        "    ZAR_data = group.get_group(key).drop('currency',axis=1)\n"
      ],
      "execution_count": null,
      "outputs": []
    },
    {
      "cell_type": "code",
      "metadata": {
        "id": "ahcR4ltyESkt"
      },
      "source": [
        "def xgboost(x_train, y_train,x_test,y_test):\n",
        "  x=XGBRegressor(n_estimators =  200,\n",
        "          max_depth = 15 ,\n",
        "          min_child_samples =  5, \n",
        "          colsample_bytree = 0.4,\n",
        "          subsample = 0.3,\n",
        "          n_jobs = 3 ,\n",
        "          reg_lambda = 1.5)\n",
        "  model, pred_xgb = fit_pred(x, x_train, y_train,x_test,y_test)\n",
        "  feature_imp(model)\n",
        "  MAE_x, MSE_x, RMSE_x = metrics_calcul(pred_xgb, y_test)\n",
        "  df_ev = print_res(y_test,pred_xgb)\n",
        "  return pred_xgb, df_ev"
      ],
      "execution_count": null,
      "outputs": []
    },
    {
      "cell_type": "markdown",
      "metadata": {
        "id": "i9lZf92RB1_v"
      },
      "source": [
        "####AED"
      ]
    },
    {
      "cell_type": "code",
      "metadata": {
        "colab": {
          "base_uri": "https://localhost:8080/",
          "height": 142
        },
        "id": "ck0wK7IbJK0W",
        "outputId": "b6fa1069-55a3-414c-ab60-4d0e02caf1af"
      },
      "source": [
        "VIF_check(AED_data.drop(['price_scaled','model_id','submodel_id'],axis=1))"
      ],
      "execution_count": null,
      "outputs": [
        {
          "output_type": "execute_result",
          "data": {
            "text/html": [
              "<div>\n",
              "<style scoped>\n",
              "    .dataframe tbody tr th:only-of-type {\n",
              "        vertical-align: middle;\n",
              "    }\n",
              "\n",
              "    .dataframe tbody tr th {\n",
              "        vertical-align: top;\n",
              "    }\n",
              "\n",
              "    .dataframe thead th {\n",
              "        text-align: right;\n",
              "    }\n",
              "</style>\n",
              "<table border=\"1\" class=\"dataframe\">\n",
              "  <thead>\n",
              "    <tr style=\"text-align: right;\">\n",
              "      <th></th>\n",
              "      <th>VIF</th>\n",
              "      <th>Features</th>\n",
              "    </tr>\n",
              "  </thead>\n",
              "  <tbody>\n",
              "    <tr>\n",
              "      <th>0</th>\n",
              "      <td>2.69</td>\n",
              "      <td>make_id</td>\n",
              "    </tr>\n",
              "    <tr>\n",
              "      <th>1</th>\n",
              "      <td>5.17</td>\n",
              "      <td>age</td>\n",
              "    </tr>\n",
              "    <tr>\n",
              "      <th>2</th>\n",
              "      <td>4.67</td>\n",
              "      <td>mileage_scaled</td>\n",
              "    </tr>\n",
              "  </tbody>\n",
              "</table>\n",
              "</div>"
            ],
            "text/plain": [
              "   VIF        Features\n",
              "0 2.69         make_id\n",
              "1 5.17             age\n",
              "2 4.67  mileage_scaled"
            ]
          },
          "metadata": {
            "tags": []
          },
          "execution_count": 47
        }
      ]
    },
    {
      "cell_type": "code",
      "metadata": {
        "colab": {
          "base_uri": "https://localhost:8080/",
          "height": 756
        },
        "id": "pgSFLxOpB-OM",
        "outputId": "cb0b2ed1-7745-4f5e-a7cd-698d1b133f3c"
      },
      "source": [
        "x_train, x_test, y_train, y_test = split_data(AED_data,'price_scaled')\n",
        "pred_xgb_AED, df_ev  = xgboost(x_train, y_train,x_test,y_test) \n",
        "df_ev.tail(10)"
      ],
      "execution_count": null,
      "outputs": [
        {
          "output_type": "stream",
          "text": [
            "[10:01:45] WARNING: /workspace/src/objective/regression_obj.cu:152: reg:linear is now deprecated in favor of reg:squarederror.\n",
            "rmse for trained:  0.005217927879314971\n",
            "r_squared for trained:  0.5362558302002769\n"
          ],
          "name": "stdout"
        },
        {
          "output_type": "display_data",
          "data": {
            "image/png": "[encoded data removed]",
            "text/plain": [
              "<Figure size 432x288 with 1 Axes>"
            ]
          },
          "metadata": {
            "tags": [],
            "needs_background": "light"
          }
        },
        {
          "output_type": "stream",
          "text": [
            "MAE:  0.001889249369527872\n",
            "MSE:  2.7226771353732437e-05\n",
            "RMSE:  0.005217927879314971\n",
            "mean of the difference in the test set 0.18830511906392847\n"
          ],
          "name": "stdout"
        },
        {
          "output_type": "execute_result",
          "data": {
            "text/html": [
              "<div>\n",
              "<style scoped>\n",
              "    .dataframe tbody tr th:only-of-type {\n",
              "        vertical-align: middle;\n",
              "    }\n",
              "\n",
              "    .dataframe tbody tr th {\n",
              "        vertical-align: top;\n",
              "    }\n",
              "\n",
              "    .dataframe thead th {\n",
              "        text-align: right;\n",
              "    }\n",
              "</style>\n",
              "<table border=\"1\" class=\"dataframe\">\n",
              "  <thead>\n",
              "    <tr style=\"text-align: right;\">\n",
              "      <th></th>\n",
              "      <th>Predicted Price</th>\n",
              "      <th>Actual Price</th>\n",
              "      <th>Residual</th>\n",
              "      <th>Difference%</th>\n",
              "    </tr>\n",
              "  </thead>\n",
              "  <tbody>\n",
              "    <tr>\n",
              "      <th>25227</th>\n",
              "      <td>1.00</td>\n",
              "      <td>1.00</td>\n",
              "      <td>0.00</td>\n",
              "      <td>0.03</td>\n",
              "    </tr>\n",
              "    <tr>\n",
              "      <th>25228</th>\n",
              "      <td>1.00</td>\n",
              "      <td>1.00</td>\n",
              "      <td>0.00</td>\n",
              "      <td>0.00</td>\n",
              "    </tr>\n",
              "    <tr>\n",
              "      <th>25229</th>\n",
              "      <td>1.00</td>\n",
              "      <td>1.00</td>\n",
              "      <td>0.00</td>\n",
              "      <td>0.11</td>\n",
              "    </tr>\n",
              "    <tr>\n",
              "      <th>25230</th>\n",
              "      <td>1.00</td>\n",
              "      <td>1.00</td>\n",
              "      <td>-0.00</td>\n",
              "      <td>0.02</td>\n",
              "    </tr>\n",
              "    <tr>\n",
              "      <th>25231</th>\n",
              "      <td>1.00</td>\n",
              "      <td>1.00</td>\n",
              "      <td>-0.00</td>\n",
              "      <td>0.03</td>\n",
              "    </tr>\n",
              "    <tr>\n",
              "      <th>25232</th>\n",
              "      <td>1.01</td>\n",
              "      <td>1.00</td>\n",
              "      <td>-0.01</td>\n",
              "      <td>0.74</td>\n",
              "    </tr>\n",
              "    <tr>\n",
              "      <th>25233</th>\n",
              "      <td>1.00</td>\n",
              "      <td>1.00</td>\n",
              "      <td>-0.00</td>\n",
              "      <td>0.21</td>\n",
              "    </tr>\n",
              "    <tr>\n",
              "      <th>25234</th>\n",
              "      <td>1.00</td>\n",
              "      <td>1.00</td>\n",
              "      <td>-0.00</td>\n",
              "      <td>0.02</td>\n",
              "    </tr>\n",
              "    <tr>\n",
              "      <th>25235</th>\n",
              "      <td>1.00</td>\n",
              "      <td>1.00</td>\n",
              "      <td>0.00</td>\n",
              "      <td>0.08</td>\n",
              "    </tr>\n",
              "    <tr>\n",
              "      <th>25236</th>\n",
              "      <td>1.00</td>\n",
              "      <td>1.00</td>\n",
              "      <td>-0.00</td>\n",
              "      <td>0.07</td>\n",
              "    </tr>\n",
              "  </tbody>\n",
              "</table>\n",
              "</div>"
            ],
            "text/plain": [
              "       Predicted Price  Actual Price  Residual  Difference%\n",
              "25227             1.00          1.00      0.00         0.03\n",
              "25228             1.00          1.00      0.00         0.00\n",
              "25229             1.00          1.00      0.00         0.11\n",
              "25230             1.00          1.00     -0.00         0.02\n",
              "25231             1.00          1.00     -0.00         0.03\n",
              "25232             1.01          1.00     -0.01         0.74\n",
              "25233             1.00          1.00     -0.00         0.21\n",
              "25234             1.00          1.00     -0.00         0.02\n",
              "25235             1.00          1.00      0.00         0.08\n",
              "25236             1.00          1.00     -0.00         0.07"
            ]
          },
          "metadata": {
            "tags": []
          },
          "execution_count": 48
        }
      ]
    },
    {
      "cell_type": "markdown",
      "metadata": {
        "id": "mRzNUySZEHW_"
      },
      "source": [
        "###KWD"
      ]
    },
    {
      "cell_type": "code",
      "metadata": {
        "colab": {
          "base_uri": "https://localhost:8080/",
          "height": 142
        },
        "id": "uw2_82-cEJKn",
        "outputId": "0a7baebe-794b-448e-8659-67647e1adc8f"
      },
      "source": [
        "VIF_check(KWD_data.drop(['price_scaled','model_id','submodel_id'],axis=1))"
      ],
      "execution_count": null,
      "outputs": [
        {
          "output_type": "execute_result",
          "data": {
            "text/html": [
              "<div>\n",
              "<style scoped>\n",
              "    .dataframe tbody tr th:only-of-type {\n",
              "        vertical-align: middle;\n",
              "    }\n",
              "\n",
              "    .dataframe tbody tr th {\n",
              "        vertical-align: top;\n",
              "    }\n",
              "\n",
              "    .dataframe thead th {\n",
              "        text-align: right;\n",
              "    }\n",
              "</style>\n",
              "<table border=\"1\" class=\"dataframe\">\n",
              "  <thead>\n",
              "    <tr style=\"text-align: right;\">\n",
              "      <th></th>\n",
              "      <th>VIF</th>\n",
              "      <th>Features</th>\n",
              "    </tr>\n",
              "  </thead>\n",
              "  <tbody>\n",
              "    <tr>\n",
              "      <th>0</th>\n",
              "      <td>2.77</td>\n",
              "      <td>make_id</td>\n",
              "    </tr>\n",
              "    <tr>\n",
              "      <th>1</th>\n",
              "      <td>3.47</td>\n",
              "      <td>age</td>\n",
              "    </tr>\n",
              "    <tr>\n",
              "      <th>2</th>\n",
              "      <td>2.41</td>\n",
              "      <td>mileage_scaled</td>\n",
              "    </tr>\n",
              "  </tbody>\n",
              "</table>\n",
              "</div>"
            ],
            "text/plain": [
              "   VIF        Features\n",
              "0 2.77         make_id\n",
              "1 3.47             age\n",
              "2 2.41  mileage_scaled"
            ]
          },
          "metadata": {
            "tags": []
          },
          "execution_count": 49
        }
      ]
    },
    {
      "cell_type": "code",
      "metadata": {
        "colab": {
          "base_uri": "https://localhost:8080/",
          "height": 756
        },
        "id": "LEgrTSWLEOHF",
        "outputId": "1f6179b3-7d1b-422a-b273-5e19542595ee"
      },
      "source": [
        "x_train, x_test, y_train, y_test = split_data(KWD_data,'price_scaled')\n",
        "pred_xgb_KWD, df_ev  = xgboost(x_train, y_train,x_test,y_test) \n",
        "df_ev.tail(10)"
      ],
      "execution_count": null,
      "outputs": [
        {
          "output_type": "stream",
          "text": [
            "[10:01:59] WARNING: /workspace/src/objective/regression_obj.cu:152: reg:linear is now deprecated in favor of reg:squarederror.\n",
            "rmse for trained:  0.004799862337475552\n",
            "r_squared for trained:  0.42597346043027995\n"
          ],
          "name": "stdout"
        },
        {
          "output_type": "display_data",
          "data": {
            "image/png": "[encoded data removed]",
            "text/plain": [
              "<Figure size 432x288 with 1 Axes>"
            ]
          },
          "metadata": {
            "tags": [],
            "needs_background": "light"
          }
        },
        {
          "output_type": "stream",
          "text": [
            "MAE:  0.0018493225544873337\n",
            "MSE:  2.3038678458716273e-05\n",
            "RMSE:  0.004799862337475552\n",
            "mean of the difference in the test set 0.18451600931771836\n"
          ],
          "name": "stdout"
        },
        {
          "output_type": "execute_result",
          "data": {
            "text/html": [
              "<div>\n",
              "<style scoped>\n",
              "    .dataframe tbody tr th:only-of-type {\n",
              "        vertical-align: middle;\n",
              "    }\n",
              "\n",
              "    .dataframe tbody tr th {\n",
              "        vertical-align: top;\n",
              "    }\n",
              "\n",
              "    .dataframe thead th {\n",
              "        text-align: right;\n",
              "    }\n",
              "</style>\n",
              "<table border=\"1\" class=\"dataframe\">\n",
              "  <thead>\n",
              "    <tr style=\"text-align: right;\">\n",
              "      <th></th>\n",
              "      <th>Predicted Price</th>\n",
              "      <th>Actual Price</th>\n",
              "      <th>Residual</th>\n",
              "      <th>Difference%</th>\n",
              "    </tr>\n",
              "  </thead>\n",
              "  <tbody>\n",
              "    <tr>\n",
              "      <th>11011</th>\n",
              "      <td>1.00</td>\n",
              "      <td>1.00</td>\n",
              "      <td>0.00</td>\n",
              "      <td>0.01</td>\n",
              "    </tr>\n",
              "    <tr>\n",
              "      <th>11012</th>\n",
              "      <td>1.00</td>\n",
              "      <td>1.00</td>\n",
              "      <td>-0.00</td>\n",
              "      <td>0.02</td>\n",
              "    </tr>\n",
              "    <tr>\n",
              "      <th>11013</th>\n",
              "      <td>1.00</td>\n",
              "      <td>1.00</td>\n",
              "      <td>-0.00</td>\n",
              "      <td>0.02</td>\n",
              "    </tr>\n",
              "    <tr>\n",
              "      <th>11014</th>\n",
              "      <td>1.00</td>\n",
              "      <td>1.00</td>\n",
              "      <td>-0.00</td>\n",
              "      <td>0.01</td>\n",
              "    </tr>\n",
              "    <tr>\n",
              "      <th>11015</th>\n",
              "      <td>1.00</td>\n",
              "      <td>1.00</td>\n",
              "      <td>-0.00</td>\n",
              "      <td>0.16</td>\n",
              "    </tr>\n",
              "    <tr>\n",
              "      <th>11016</th>\n",
              "      <td>1.00</td>\n",
              "      <td>1.00</td>\n",
              "      <td>0.00</td>\n",
              "      <td>0.01</td>\n",
              "    </tr>\n",
              "    <tr>\n",
              "      <th>11017</th>\n",
              "      <td>1.00</td>\n",
              "      <td>1.00</td>\n",
              "      <td>-0.00</td>\n",
              "      <td>0.02</td>\n",
              "    </tr>\n",
              "    <tr>\n",
              "      <th>11018</th>\n",
              "      <td>1.00</td>\n",
              "      <td>1.00</td>\n",
              "      <td>-0.00</td>\n",
              "      <td>0.23</td>\n",
              "    </tr>\n",
              "    <tr>\n",
              "      <th>11019</th>\n",
              "      <td>1.00</td>\n",
              "      <td>1.00</td>\n",
              "      <td>-0.00</td>\n",
              "      <td>0.02</td>\n",
              "    </tr>\n",
              "    <tr>\n",
              "      <th>11020</th>\n",
              "      <td>1.00</td>\n",
              "      <td>1.00</td>\n",
              "      <td>-0.00</td>\n",
              "      <td>0.05</td>\n",
              "    </tr>\n",
              "  </tbody>\n",
              "</table>\n",
              "</div>"
            ],
            "text/plain": [
              "       Predicted Price  Actual Price  Residual  Difference%\n",
              "11011             1.00          1.00      0.00         0.01\n",
              "11012             1.00          1.00     -0.00         0.02\n",
              "11013             1.00          1.00     -0.00         0.02\n",
              "11014             1.00          1.00     -0.00         0.01\n",
              "11015             1.00          1.00     -0.00         0.16\n",
              "11016             1.00          1.00      0.00         0.01\n",
              "11017             1.00          1.00     -0.00         0.02\n",
              "11018             1.00          1.00     -0.00         0.23\n",
              "11019             1.00          1.00     -0.00         0.02\n",
              "11020             1.00          1.00     -0.00         0.05"
            ]
          },
          "metadata": {
            "tags": []
          },
          "execution_count": 50
        }
      ]
    },
    {
      "cell_type": "markdown",
      "metadata": {
        "id": "x0Uj6S22GHlB"
      },
      "source": [
        "###LBP"
      ]
    },
    {
      "cell_type": "code",
      "metadata": {
        "colab": {
          "base_uri": "https://localhost:8080/",
          "height": 142
        },
        "id": "_29jCx8JEXjQ",
        "outputId": "4c73473b-281b-4b6c-cd49-908222174926"
      },
      "source": [
        "VIF_check(LBP_data.drop(['price_scaled','model_id','submodel_id'],axis=1))"
      ],
      "execution_count": null,
      "outputs": [
        {
          "output_type": "execute_result",
          "data": {
            "text/html": [
              "<div>\n",
              "<style scoped>\n",
              "    .dataframe tbody tr th:only-of-type {\n",
              "        vertical-align: middle;\n",
              "    }\n",
              "\n",
              "    .dataframe tbody tr th {\n",
              "        vertical-align: top;\n",
              "    }\n",
              "\n",
              "    .dataframe thead th {\n",
              "        text-align: right;\n",
              "    }\n",
              "</style>\n",
              "<table border=\"1\" class=\"dataframe\">\n",
              "  <thead>\n",
              "    <tr style=\"text-align: right;\">\n",
              "      <th></th>\n",
              "      <th>VIF</th>\n",
              "      <th>Features</th>\n",
              "    </tr>\n",
              "  </thead>\n",
              "  <tbody>\n",
              "    <tr>\n",
              "      <th>0</th>\n",
              "      <td>2.64</td>\n",
              "      <td>make_id</td>\n",
              "    </tr>\n",
              "    <tr>\n",
              "      <th>1</th>\n",
              "      <td>2.79</td>\n",
              "      <td>age</td>\n",
              "    </tr>\n",
              "    <tr>\n",
              "      <th>2</th>\n",
              "      <td>2.35</td>\n",
              "      <td>mileage_scaled</td>\n",
              "    </tr>\n",
              "  </tbody>\n",
              "</table>\n",
              "</div>"
            ],
            "text/plain": [
              "   VIF        Features\n",
              "0 2.64         make_id\n",
              "1 2.79             age\n",
              "2 2.35  mileage_scaled"
            ]
          },
          "metadata": {
            "tags": []
          },
          "execution_count": 51
        }
      ]
    },
    {
      "cell_type": "code",
      "metadata": {
        "colab": {
          "base_uri": "https://localhost:8080/",
          "height": 756
        },
        "id": "i64T5e0eGJxq",
        "outputId": "f2e63aa8-eeb9-4050-b9e6-912e0e6c440d"
      },
      "source": [
        "x_train, x_test, y_train, y_test = split_data(LBP_data,'price_scaled')\n",
        "pred_xgb_LBP, df_ev  = xgboost(x_train, y_train,x_test,y_test) \n",
        "df_ev.tail(10)"
      ],
      "execution_count": null,
      "outputs": [
        {
          "output_type": "stream",
          "text": [
            "[10:02:06] WARNING: /workspace/src/objective/regression_obj.cu:152: reg:linear is now deprecated in favor of reg:squarederror.\n",
            "rmse for trained:  0.002134054359556056\n",
            "r_squared for trained:  0.2300635263362697\n"
          ],
          "name": "stdout"
        },
        {
          "output_type": "display_data",
          "data": {
            "image/png": "[encoded data removed]",
            "text/plain": [
              "<Figure size 432x288 with 1 Axes>"
            ]
          },
          "metadata": {
            "tags": [],
            "needs_background": "light"
          }
        },
        {
          "output_type": "stream",
          "text": [
            "MAE:  0.0007993261583752838\n",
            "MSE:  4.554188009540208e-06\n",
            "RMSE:  0.002134054359556056\n",
            "mean of the difference in the test set 0.07987484194592269\n"
          ],
          "name": "stdout"
        },
        {
          "output_type": "execute_result",
          "data": {
            "text/html": [
              "<div>\n",
              "<style scoped>\n",
              "    .dataframe tbody tr th:only-of-type {\n",
              "        vertical-align: middle;\n",
              "    }\n",
              "\n",
              "    .dataframe tbody tr th {\n",
              "        vertical-align: top;\n",
              "    }\n",
              "\n",
              "    .dataframe thead th {\n",
              "        text-align: right;\n",
              "    }\n",
              "</style>\n",
              "<table border=\"1\" class=\"dataframe\">\n",
              "  <thead>\n",
              "    <tr style=\"text-align: right;\">\n",
              "      <th></th>\n",
              "      <th>Predicted Price</th>\n",
              "      <th>Actual Price</th>\n",
              "      <th>Residual</th>\n",
              "      <th>Difference%</th>\n",
              "    </tr>\n",
              "  </thead>\n",
              "  <tbody>\n",
              "    <tr>\n",
              "      <th>3253</th>\n",
              "      <td>1.01</td>\n",
              "      <td>1.00</td>\n",
              "      <td>-0.00</td>\n",
              "      <td>0.40</td>\n",
              "    </tr>\n",
              "    <tr>\n",
              "      <th>3254</th>\n",
              "      <td>1.00</td>\n",
              "      <td>1.00</td>\n",
              "      <td>-0.00</td>\n",
              "      <td>0.02</td>\n",
              "    </tr>\n",
              "    <tr>\n",
              "      <th>3255</th>\n",
              "      <td>1.00</td>\n",
              "      <td>1.00</td>\n",
              "      <td>-0.00</td>\n",
              "      <td>0.08</td>\n",
              "    </tr>\n",
              "    <tr>\n",
              "      <th>3256</th>\n",
              "      <td>1.00</td>\n",
              "      <td>1.00</td>\n",
              "      <td>-0.00</td>\n",
              "      <td>0.06</td>\n",
              "    </tr>\n",
              "    <tr>\n",
              "      <th>3257</th>\n",
              "      <td>1.00</td>\n",
              "      <td>1.00</td>\n",
              "      <td>0.00</td>\n",
              "      <td>0.02</td>\n",
              "    </tr>\n",
              "    <tr>\n",
              "      <th>3258</th>\n",
              "      <td>1.00</td>\n",
              "      <td>1.00</td>\n",
              "      <td>0.00</td>\n",
              "      <td>0.07</td>\n",
              "    </tr>\n",
              "    <tr>\n",
              "      <th>3259</th>\n",
              "      <td>1.00</td>\n",
              "      <td>1.00</td>\n",
              "      <td>0.00</td>\n",
              "      <td>0.01</td>\n",
              "    </tr>\n",
              "    <tr>\n",
              "      <th>3260</th>\n",
              "      <td>1.00</td>\n",
              "      <td>1.01</td>\n",
              "      <td>0.00</td>\n",
              "      <td>0.23</td>\n",
              "    </tr>\n",
              "    <tr>\n",
              "      <th>3261</th>\n",
              "      <td>1.00</td>\n",
              "      <td>1.00</td>\n",
              "      <td>0.00</td>\n",
              "      <td>0.03</td>\n",
              "    </tr>\n",
              "    <tr>\n",
              "      <th>3262</th>\n",
              "      <td>1.00</td>\n",
              "      <td>1.01</td>\n",
              "      <td>0.01</td>\n",
              "      <td>0.61</td>\n",
              "    </tr>\n",
              "  </tbody>\n",
              "</table>\n",
              "</div>"
            ],
            "text/plain": [
              "      Predicted Price  Actual Price  Residual  Difference%\n",
              "3253             1.01          1.00     -0.00         0.40\n",
              "3254             1.00          1.00     -0.00         0.02\n",
              "3255             1.00          1.00     -0.00         0.08\n",
              "3256             1.00          1.00     -0.00         0.06\n",
              "3257             1.00          1.00      0.00         0.02\n",
              "3258             1.00          1.00      0.00         0.07\n",
              "3259             1.00          1.00      0.00         0.01\n",
              "3260             1.00          1.01      0.00         0.23\n",
              "3261             1.00          1.00      0.00         0.03\n",
              "3262             1.00          1.01      0.01         0.61"
            ]
          },
          "metadata": {
            "tags": []
          },
          "execution_count": 52
        }
      ]
    },
    {
      "cell_type": "markdown",
      "metadata": {
        "id": "NcSEcVNaGVF2"
      },
      "source": [
        "###PKR"
      ]
    },
    {
      "cell_type": "code",
      "metadata": {
        "colab": {
          "base_uri": "https://localhost:8080/",
          "height": 142
        },
        "id": "hpjQAqfjGWG2",
        "outputId": "e9de1765-be91-4b2a-83fd-213c8b53b390"
      },
      "source": [
        "VIF_check(PKR_data.drop(['price_scaled','model_id','submodel_id'],axis=1))"
      ],
      "execution_count": null,
      "outputs": [
        {
          "output_type": "execute_result",
          "data": {
            "text/html": [
              "<div>\n",
              "<style scoped>\n",
              "    .dataframe tbody tr th:only-of-type {\n",
              "        vertical-align: middle;\n",
              "    }\n",
              "\n",
              "    .dataframe tbody tr th {\n",
              "        vertical-align: top;\n",
              "    }\n",
              "\n",
              "    .dataframe thead th {\n",
              "        text-align: right;\n",
              "    }\n",
              "</style>\n",
              "<table border=\"1\" class=\"dataframe\">\n",
              "  <thead>\n",
              "    <tr style=\"text-align: right;\">\n",
              "      <th></th>\n",
              "      <th>VIF</th>\n",
              "      <th>Features</th>\n",
              "    </tr>\n",
              "  </thead>\n",
              "  <tbody>\n",
              "    <tr>\n",
              "      <th>0</th>\n",
              "      <td>2.91</td>\n",
              "      <td>make_id</td>\n",
              "    </tr>\n",
              "    <tr>\n",
              "      <th>1</th>\n",
              "      <td>3.43</td>\n",
              "      <td>age</td>\n",
              "    </tr>\n",
              "    <tr>\n",
              "      <th>2</th>\n",
              "      <td>3.21</td>\n",
              "      <td>mileage_scaled</td>\n",
              "    </tr>\n",
              "  </tbody>\n",
              "</table>\n",
              "</div>"
            ],
            "text/plain": [
              "   VIF        Features\n",
              "0 2.91         make_id\n",
              "1 3.43             age\n",
              "2 3.21  mileage_scaled"
            ]
          },
          "metadata": {
            "tags": []
          },
          "execution_count": 53
        }
      ]
    },
    {
      "cell_type": "code",
      "metadata": {
        "colab": {
          "base_uri": "https://localhost:8080/",
          "height": 756
        },
        "id": "dzlJQHJqGa6L",
        "outputId": "3ab0e893-c94b-4484-9b69-5f1b7449fd2d"
      },
      "source": [
        "x_train, x_test, y_train, y_test = split_data(PKR_data,'price_scaled')\n",
        "pred_xgb_PKR, df_ev  = xgboost(x_train, y_train,x_test,y_test) \n",
        "df_ev.tail(10)"
      ],
      "execution_count": null,
      "outputs": [
        {
          "output_type": "stream",
          "text": [
            "[10:02:08] WARNING: /workspace/src/objective/regression_obj.cu:152: reg:linear is now deprecated in favor of reg:squarederror.\n",
            "rmse for trained:  0.0035574962256084966\n",
            "r_squared for trained:  0.744812454941665\n"
          ],
          "name": "stdout"
        },
        {
          "output_type": "display_data",
          "data": {
            "image/png": "[encoded data removed]",
            "text/plain": [
              "<Figure size 432x288 with 1 Axes>"
            ]
          },
          "metadata": {
            "tags": [],
            "needs_background": "light"
          }
        },
        {
          "output_type": "stream",
          "text": [
            "MAE:  0.0017096453013640007\n",
            "MSE:  1.2655779395218698e-05\n",
            "RMSE:  0.0035574962256084966\n",
            "mean of the difference in the test set 0.17104533670368846\n"
          ],
          "name": "stdout"
        },
        {
          "output_type": "execute_result",
          "data": {
            "text/html": [
              "<div>\n",
              "<style scoped>\n",
              "    .dataframe tbody tr th:only-of-type {\n",
              "        vertical-align: middle;\n",
              "    }\n",
              "\n",
              "    .dataframe tbody tr th {\n",
              "        vertical-align: top;\n",
              "    }\n",
              "\n",
              "    .dataframe thead th {\n",
              "        text-align: right;\n",
              "    }\n",
              "</style>\n",
              "<table border=\"1\" class=\"dataframe\">\n",
              "  <thead>\n",
              "    <tr style=\"text-align: right;\">\n",
              "      <th></th>\n",
              "      <th>Predicted Price</th>\n",
              "      <th>Actual Price</th>\n",
              "      <th>Residual</th>\n",
              "      <th>Difference%</th>\n",
              "    </tr>\n",
              "  </thead>\n",
              "  <tbody>\n",
              "    <tr>\n",
              "      <th>54296</th>\n",
              "      <td>1.00</td>\n",
              "      <td>1.00</td>\n",
              "      <td>-0.00</td>\n",
              "      <td>0.14</td>\n",
              "    </tr>\n",
              "    <tr>\n",
              "      <th>54297</th>\n",
              "      <td>1.01</td>\n",
              "      <td>1.01</td>\n",
              "      <td>-0.00</td>\n",
              "      <td>0.05</td>\n",
              "    </tr>\n",
              "    <tr>\n",
              "      <th>54298</th>\n",
              "      <td>1.00</td>\n",
              "      <td>1.01</td>\n",
              "      <td>0.01</td>\n",
              "      <td>0.82</td>\n",
              "    </tr>\n",
              "    <tr>\n",
              "      <th>54299</th>\n",
              "      <td>1.00</td>\n",
              "      <td>1.00</td>\n",
              "      <td>0.00</td>\n",
              "      <td>0.05</td>\n",
              "    </tr>\n",
              "    <tr>\n",
              "      <th>54300</th>\n",
              "      <td>1.00</td>\n",
              "      <td>1.00</td>\n",
              "      <td>-0.00</td>\n",
              "      <td>0.01</td>\n",
              "    </tr>\n",
              "    <tr>\n",
              "      <th>54301</th>\n",
              "      <td>1.00</td>\n",
              "      <td>1.00</td>\n",
              "      <td>0.00</td>\n",
              "      <td>0.01</td>\n",
              "    </tr>\n",
              "    <tr>\n",
              "      <th>54302</th>\n",
              "      <td>1.01</td>\n",
              "      <td>1.01</td>\n",
              "      <td>-0.00</td>\n",
              "      <td>0.03</td>\n",
              "    </tr>\n",
              "    <tr>\n",
              "      <th>54303</th>\n",
              "      <td>1.00</td>\n",
              "      <td>1.00</td>\n",
              "      <td>-0.00</td>\n",
              "      <td>0.00</td>\n",
              "    </tr>\n",
              "    <tr>\n",
              "      <th>54304</th>\n",
              "      <td>1.01</td>\n",
              "      <td>1.01</td>\n",
              "      <td>0.00</td>\n",
              "      <td>0.17</td>\n",
              "    </tr>\n",
              "    <tr>\n",
              "      <th>54305</th>\n",
              "      <td>1.02</td>\n",
              "      <td>1.02</td>\n",
              "      <td>-0.00</td>\n",
              "      <td>0.20</td>\n",
              "    </tr>\n",
              "  </tbody>\n",
              "</table>\n",
              "</div>"
            ],
            "text/plain": [
              "       Predicted Price  Actual Price  Residual  Difference%\n",
              "54296             1.00          1.00     -0.00         0.14\n",
              "54297             1.01          1.01     -0.00         0.05\n",
              "54298             1.00          1.01      0.01         0.82\n",
              "54299             1.00          1.00      0.00         0.05\n",
              "54300             1.00          1.00     -0.00         0.01\n",
              "54301             1.00          1.00      0.00         0.01\n",
              "54302             1.01          1.01     -0.00         0.03\n",
              "54303             1.00          1.00     -0.00         0.00\n",
              "54304             1.01          1.01      0.00         0.17\n",
              "54305             1.02          1.02     -0.00         0.20"
            ]
          },
          "metadata": {
            "tags": []
          },
          "execution_count": 54
        }
      ]
    },
    {
      "cell_type": "markdown",
      "metadata": {
        "id": "5Xwcr-pTHKxf"
      },
      "source": [
        "###SAR"
      ]
    },
    {
      "cell_type": "code",
      "metadata": {
        "colab": {
          "base_uri": "https://localhost:8080/",
          "height": 142
        },
        "id": "n6k6SdSmHNUO",
        "outputId": "5fc66384-5757-4b80-a1e0-39fba9f8e97c"
      },
      "source": [
        "VIF_check(SAR_data.drop(['price_scaled','model_id','submodel_id'],axis=1))"
      ],
      "execution_count": null,
      "outputs": [
        {
          "output_type": "execute_result",
          "data": {
            "text/html": [
              "<div>\n",
              "<style scoped>\n",
              "    .dataframe tbody tr th:only-of-type {\n",
              "        vertical-align: middle;\n",
              "    }\n",
              "\n",
              "    .dataframe tbody tr th {\n",
              "        vertical-align: top;\n",
              "    }\n",
              "\n",
              "    .dataframe thead th {\n",
              "        text-align: right;\n",
              "    }\n",
              "</style>\n",
              "<table border=\"1\" class=\"dataframe\">\n",
              "  <thead>\n",
              "    <tr style=\"text-align: right;\">\n",
              "      <th></th>\n",
              "      <th>VIF</th>\n",
              "      <th>Features</th>\n",
              "    </tr>\n",
              "  </thead>\n",
              "  <tbody>\n",
              "    <tr>\n",
              "      <th>0</th>\n",
              "      <td>1.81</td>\n",
              "      <td>make_id</td>\n",
              "    </tr>\n",
              "    <tr>\n",
              "      <th>1</th>\n",
              "      <td>3.07</td>\n",
              "      <td>age</td>\n",
              "    </tr>\n",
              "    <tr>\n",
              "      <th>2</th>\n",
              "      <td>2.68</td>\n",
              "      <td>mileage_scaled</td>\n",
              "    </tr>\n",
              "  </tbody>\n",
              "</table>\n",
              "</div>"
            ],
            "text/plain": [
              "   VIF        Features\n",
              "0 1.81         make_id\n",
              "1 3.07             age\n",
              "2 2.68  mileage_scaled"
            ]
          },
          "metadata": {
            "tags": []
          },
          "execution_count": 55
        }
      ]
    },
    {
      "cell_type": "code",
      "metadata": {
        "colab": {
          "base_uri": "https://localhost:8080/",
          "height": 756
        },
        "id": "iQuY5WXrHRfT",
        "outputId": "5ce9e08c-711c-491a-d134-a05dc68fb52a"
      },
      "source": [
        "x_train, x_test, y_train, y_test = split_data(SAR_data,'price_scaled')\n",
        "pred_xgb_SAR, df_ev  = xgboost(x_train, y_train,x_test,y_test) \n",
        "df_ev.tail(10)"
      ],
      "execution_count": null,
      "outputs": [
        {
          "output_type": "stream",
          "text": [
            "[10:02:36] WARNING: /workspace/src/objective/regression_obj.cu:152: reg:linear is now deprecated in favor of reg:squarederror.\n",
            "rmse for trained:  0.007447481957249517\n",
            "r_squared for trained:  0.535668437617848\n"
          ],
          "name": "stdout"
        },
        {
          "output_type": "display_data",
          "data": {
            "image/png": "[encoded data removed]",
            "text/plain": [
              "<Figure size 432x288 with 1 Axes>"
            ]
          },
          "metadata": {
            "tags": [],
            "needs_background": "light"
          }
        },
        {
          "output_type": "stream",
          "text": [
            "MAE:  0.0027871161692452685\n",
            "MSE:  5.54649875035571e-05\n",
            "RMSE:  0.007447481957249517\n",
            "mean of the difference in the test set 0.2773301488035646\n"
          ],
          "name": "stdout"
        },
        {
          "output_type": "execute_result",
          "data": {
            "text/html": [
              "<div>\n",
              "<style scoped>\n",
              "    .dataframe tbody tr th:only-of-type {\n",
              "        vertical-align: middle;\n",
              "    }\n",
              "\n",
              "    .dataframe tbody tr th {\n",
              "        vertical-align: top;\n",
              "    }\n",
              "\n",
              "    .dataframe thead th {\n",
              "        text-align: right;\n",
              "    }\n",
              "</style>\n",
              "<table border=\"1\" class=\"dataframe\">\n",
              "  <thead>\n",
              "    <tr style=\"text-align: right;\">\n",
              "      <th></th>\n",
              "      <th>Predicted Price</th>\n",
              "      <th>Actual Price</th>\n",
              "      <th>Residual</th>\n",
              "      <th>Difference%</th>\n",
              "    </tr>\n",
              "  </thead>\n",
              "  <tbody>\n",
              "    <tr>\n",
              "      <th>7815</th>\n",
              "      <td>1.00</td>\n",
              "      <td>1.00</td>\n",
              "      <td>0.00</td>\n",
              "      <td>0.24</td>\n",
              "    </tr>\n",
              "    <tr>\n",
              "      <th>7816</th>\n",
              "      <td>1.00</td>\n",
              "      <td>1.00</td>\n",
              "      <td>-0.00</td>\n",
              "      <td>0.12</td>\n",
              "    </tr>\n",
              "    <tr>\n",
              "      <th>7817</th>\n",
              "      <td>1.03</td>\n",
              "      <td>1.04</td>\n",
              "      <td>0.00</td>\n",
              "      <td>0.37</td>\n",
              "    </tr>\n",
              "    <tr>\n",
              "      <th>7818</th>\n",
              "      <td>1.00</td>\n",
              "      <td>1.00</td>\n",
              "      <td>0.00</td>\n",
              "      <td>0.02</td>\n",
              "    </tr>\n",
              "    <tr>\n",
              "      <th>7819</th>\n",
              "      <td>1.00</td>\n",
              "      <td>1.00</td>\n",
              "      <td>-0.00</td>\n",
              "      <td>0.01</td>\n",
              "    </tr>\n",
              "    <tr>\n",
              "      <th>7820</th>\n",
              "      <td>1.00</td>\n",
              "      <td>1.00</td>\n",
              "      <td>0.00</td>\n",
              "      <td>0.18</td>\n",
              "    </tr>\n",
              "    <tr>\n",
              "      <th>7821</th>\n",
              "      <td>1.06</td>\n",
              "      <td>1.00</td>\n",
              "      <td>-0.05</td>\n",
              "      <td>5.44</td>\n",
              "    </tr>\n",
              "    <tr>\n",
              "      <th>7822</th>\n",
              "      <td>1.00</td>\n",
              "      <td>1.00</td>\n",
              "      <td>-0.00</td>\n",
              "      <td>0.25</td>\n",
              "    </tr>\n",
              "    <tr>\n",
              "      <th>7823</th>\n",
              "      <td>1.00</td>\n",
              "      <td>1.00</td>\n",
              "      <td>-0.00</td>\n",
              "      <td>0.07</td>\n",
              "    </tr>\n",
              "    <tr>\n",
              "      <th>7824</th>\n",
              "      <td>1.00</td>\n",
              "      <td>1.00</td>\n",
              "      <td>-0.00</td>\n",
              "      <td>0.18</td>\n",
              "    </tr>\n",
              "  </tbody>\n",
              "</table>\n",
              "</div>"
            ],
            "text/plain": [
              "      Predicted Price  Actual Price  Residual  Difference%\n",
              "7815             1.00          1.00      0.00         0.24\n",
              "7816             1.00          1.00     -0.00         0.12\n",
              "7817             1.03          1.04      0.00         0.37\n",
              "7818             1.00          1.00      0.00         0.02\n",
              "7819             1.00          1.00     -0.00         0.01\n",
              "7820             1.00          1.00      0.00         0.18\n",
              "7821             1.06          1.00     -0.05         5.44\n",
              "7822             1.00          1.00     -0.00         0.25\n",
              "7823             1.00          1.00     -0.00         0.07\n",
              "7824             1.00          1.00     -0.00         0.18"
            ]
          },
          "metadata": {
            "tags": []
          },
          "execution_count": 56
        }
      ]
    },
    {
      "cell_type": "markdown",
      "metadata": {
        "id": "IRq3H67lHdQG"
      },
      "source": [
        "###ZAR"
      ]
    },
    {
      "cell_type": "code",
      "metadata": {
        "colab": {
          "base_uri": "https://localhost:8080/",
          "height": 756
        },
        "id": "c5Aja1GjHeZO",
        "outputId": "f10ee2fc-2122-4b98-dbd0-781bb8fa1a06"
      },
      "source": [
        "x_train, x_test, y_train, y_test = split_data(ZAR_data,'price_scaled')\n",
        "pred_xgb_ZAR, df_ev  = xgboost(x_train, y_train,x_test,y_test) \n",
        "df_ev.tail(10)"
      ],
      "execution_count": null,
      "outputs": [
        {
          "output_type": "stream",
          "text": [
            "[10:02:40] WARNING: /workspace/src/objective/regression_obj.cu:152: reg:linear is now deprecated in favor of reg:squarederror.\n",
            "rmse for trained:  0.0035967279526611866\n",
            "r_squared for trained:  0.5517476207721639\n"
          ],
          "name": "stdout"
        },
        {
          "output_type": "display_data",
          "data": {
            "image/png": "[encoded data removed]",
            "text/plain": [
              "<Figure size 432x288 with 1 Axes>"
            ]
          },
          "metadata": {
            "tags": [],
            "needs_background": "light"
          }
        },
        {
          "output_type": "stream",
          "text": [
            "MAE:  0.0011763764015901847\n",
            "MSE:  1.2936451965454331e-05\n",
            "RMSE:  0.0035967279526611866\n",
            "mean of the difference in the test set 0.1174323925767464\n"
          ],
          "name": "stdout"
        },
        {
          "output_type": "execute_result",
          "data": {
            "text/html": [
              "<div>\n",
              "<style scoped>\n",
              "    .dataframe tbody tr th:only-of-type {\n",
              "        vertical-align: middle;\n",
              "    }\n",
              "\n",
              "    .dataframe tbody tr th {\n",
              "        vertical-align: top;\n",
              "    }\n",
              "\n",
              "    .dataframe thead th {\n",
              "        text-align: right;\n",
              "    }\n",
              "</style>\n",
              "<table border=\"1\" class=\"dataframe\">\n",
              "  <thead>\n",
              "    <tr style=\"text-align: right;\">\n",
              "      <th></th>\n",
              "      <th>Predicted Price</th>\n",
              "      <th>Actual Price</th>\n",
              "      <th>Residual</th>\n",
              "      <th>Difference%</th>\n",
              "    </tr>\n",
              "  </thead>\n",
              "  <tbody>\n",
              "    <tr>\n",
              "      <th>78826</th>\n",
              "      <td>1.00</td>\n",
              "      <td>1.00</td>\n",
              "      <td>-0.00</td>\n",
              "      <td>0.00</td>\n",
              "    </tr>\n",
              "    <tr>\n",
              "      <th>78827</th>\n",
              "      <td>1.00</td>\n",
              "      <td>1.00</td>\n",
              "      <td>0.00</td>\n",
              "      <td>0.00</td>\n",
              "    </tr>\n",
              "    <tr>\n",
              "      <th>78828</th>\n",
              "      <td>1.01</td>\n",
              "      <td>1.00</td>\n",
              "      <td>-0.01</td>\n",
              "      <td>0.98</td>\n",
              "    </tr>\n",
              "    <tr>\n",
              "      <th>78829</th>\n",
              "      <td>1.00</td>\n",
              "      <td>1.00</td>\n",
              "      <td>-0.00</td>\n",
              "      <td>0.02</td>\n",
              "    </tr>\n",
              "    <tr>\n",
              "      <th>78830</th>\n",
              "      <td>1.00</td>\n",
              "      <td>1.00</td>\n",
              "      <td>0.00</td>\n",
              "      <td>0.28</td>\n",
              "    </tr>\n",
              "    <tr>\n",
              "      <th>78831</th>\n",
              "      <td>1.00</td>\n",
              "      <td>1.00</td>\n",
              "      <td>-0.00</td>\n",
              "      <td>0.09</td>\n",
              "    </tr>\n",
              "    <tr>\n",
              "      <th>78832</th>\n",
              "      <td>1.00</td>\n",
              "      <td>1.00</td>\n",
              "      <td>-0.00</td>\n",
              "      <td>0.01</td>\n",
              "    </tr>\n",
              "    <tr>\n",
              "      <th>78833</th>\n",
              "      <td>1.00</td>\n",
              "      <td>1.00</td>\n",
              "      <td>0.00</td>\n",
              "      <td>0.01</td>\n",
              "    </tr>\n",
              "    <tr>\n",
              "      <th>78834</th>\n",
              "      <td>1.00</td>\n",
              "      <td>1.00</td>\n",
              "      <td>-0.00</td>\n",
              "      <td>0.15</td>\n",
              "    </tr>\n",
              "    <tr>\n",
              "      <th>78835</th>\n",
              "      <td>1.00</td>\n",
              "      <td>1.00</td>\n",
              "      <td>-0.00</td>\n",
              "      <td>0.24</td>\n",
              "    </tr>\n",
              "  </tbody>\n",
              "</table>\n",
              "</div>"
            ],
            "text/plain": [
              "       Predicted Price  Actual Price  Residual  Difference%\n",
              "78826             1.00          1.00     -0.00         0.00\n",
              "78827             1.00          1.00      0.00         0.00\n",
              "78828             1.01          1.00     -0.01         0.98\n",
              "78829             1.00          1.00     -0.00         0.02\n",
              "78830             1.00          1.00      0.00         0.28\n",
              "78831             1.00          1.00     -0.00         0.09\n",
              "78832             1.00          1.00     -0.00         0.01\n",
              "78833             1.00          1.00      0.00         0.01\n",
              "78834             1.00          1.00     -0.00         0.15\n",
              "78835             1.00          1.00     -0.00         0.24"
            ]
          },
          "metadata": {
            "tags": []
          },
          "execution_count": 57
        }
      ]
    }
  ]
}